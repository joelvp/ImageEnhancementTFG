{
 "cells": [
  {
   "cell_type": "markdown",
   "metadata": {
    "id": "wVVsX9x_xPxk"
   },
   "source": [
    "# GeoProj Model Training"
   ]
  },
  {
   "cell_type": "markdown",
   "metadata": {
    "id": "V_Gy1o00x3Tk"
   },
   "source": [
    "##### **Load libraries and Cuda**\n",
    "\n"
   ]
  },
  {
   "cell_type": "code",
   "execution_count": 3,
   "metadata": {
    "id": "HGme9p9IWxsF"
   },
   "outputs": [],
   "source": [
    "import torch\n",
    "import os\n",
    "import torch.nn as nn\n",
    "from torch.optim.lr_scheduler import StepLR\n",
    "import math\n",
    "\n",
    "from typing import Tuple\n",
    "\n",
    "from dataloaderNetS import get_loader\n",
    "from modelNetS_batch_size import EncoderNet, ModelNet, EPELoss\n",
    "from models.utils import load_config\n",
    "\n",
    "config = load_config('C:/Users/JoelVP/Desktop/UPV/ImageEnhancementTFG/imageenhancementtfg/data/config.ini')"
   ]
  },
  {
   "cell_type": "code",
   "execution_count": 4,
   "metadata": {
    "colab": {
     "base_uri": "https://localhost:8080/"
    },
    "id": "dlQlcbLRyAyw",
    "outputId": "e624617e-e9d5-49ed-f16f-1d69a84afb3a"
   },
   "outputs": [
    {
     "output_type": "stream",
     "name": "stdout",
     "text": [
      "GPU Name: Tesla T4\n",
      "GPU Memory: 14.75 GB\n"
     ]
    }
   ],
   "source": [
    "if torch.cuda.is_available():\n",
    "    gpu_info = torch.cuda.get_device_properties(0)\n",
    "    print(f\"GPU Name: {gpu_info.name}\")\n",
    "    print(f\"GPU Memory: {gpu_info.total_memory / 1024**3:.2f} GB\")\n",
    "else:\n",
    "    print(\"No GPU available\")"
   ]
  },
  {
   "cell_type": "markdown",
   "metadata": {
    "id": "xqBhu9v70oI6"
   },
   "source": [
    "##### **Define Params**"
   ]
  },
  {
   "cell_type": "code",
   "execution_count": 5,
   "metadata": {
    "id": "gQzNus1zZ83I"
   },
   "outputs": [],
   "source": "dataset_dir = config['lens_distortion']['dataset_dir']"
  },
  {
   "cell_type": "markdown",
   "metadata": {
    "id": "cJyDPL8i0yNH"
   },
   "source": [
    "# **Sweep Config**\n",
    "\n"
   ]
  },
  {
   "cell_type": "code",
   "source": [
    "sweep_config = {\n",
    "    'method': 'bayes'\n",
    "    }"
   ],
   "metadata": {
    "id": "DOXi9PyUVqd4"
   },
   "execution_count": 6,
   "outputs": []
  },
  {
   "cell_type": "code",
   "source": [
    "early_terminate = {\n",
    "    'type': 'hyperband',\n",
    "    'min_iter': 3,  # Número mínimo de iteraciones antes de considerar la terminación\n",
    "    'eta': 3  # Reduccion de configuraciones al alcanzar las 3 iteraciones\n",
    "    }\n",
    "\n",
    "sweep_config['early_terminate'] = early_terminate"
   ],
   "metadata": {
    "id": "igO-M4aYhCyB"
   },
   "execution_count": null,
   "outputs": []
  },
  {
   "cell_type": "code",
   "source": [
    "metric = {\n",
    "    'name': 'loss',\n",
    "    'goal': 'minimize'\n",
    "    }\n",
    "\n",
    "sweep_config['metric'] = metric"
   ],
   "metadata": {
    "id": "goSyNFxHVuzn"
   },
   "execution_count": 7,
   "outputs": []
  },
  {
   "cell_type": "code",
   "source": [
    "parameters_dict = {\n",
    "    'optimizer': {\n",
    "        'values': ['adam', 'sgd']\n",
    "        },\n",
    "    'learning_rate': {\n",
    "        'distribution': 'uniform',\n",
    "        'min': 0.000001,\n",
    "        'max': 0.001\n",
    "      },\n",
    "    'batch_size': {\n",
    "        'values': [16,32,64]\n",
    "        },\n",
    "    'epochs': {\n",
    "        'value': 10}\n",
    "\n",
    "    }\n",
    "\n",
    "sweep_config['parameters'] = parameters_dict"
   ],
   "metadata": {
    "id": "q6gYrfatVy4G"
   },
   "execution_count": 8,
   "outputs": []
  },
  {
   "cell_type": "code",
   "source": [
    "import pprint\n",
    "pprint.pprint(sweep_config)"
   ],
   "metadata": {
    "colab": {
     "base_uri": "https://localhost:8080/"
    },
    "id": "zcJ4U04mWhG4",
    "outputId": "c107eda8-a1f7-4474-940c-fe3024114c1f"
   },
   "execution_count": 9,
   "outputs": [
    {
     "output_type": "stream",
     "name": "stdout",
     "text": [
      "{'method': 'grid',\n",
      " 'metric': {'goal': 'minimize', 'name': 'loss'},\n",
      " 'parameters': {'batch_size': {'value': 32},\n",
      "                'epochs': {'value': 10},\n",
      "                'learning_rate': {'values': [1e-06, 1e-05, 0.0001]},\n",
      "                'optimizer': {'value': 'adam'}}}\n"
     ]
    }
   ]
  },
  {
   "cell_type": "markdown",
   "metadata": {
    "id": "55ZC-abL019d"
   },
   "source": [
    "##### **AUX FUNCTIONS**"
   ]
  },
  {
   "cell_type": "code",
   "execution_count": 10,
   "metadata": {
    "id": "YO9r1nuh9NFe"
   },
   "outputs": [],
   "source": [
    "use_GPU = torch.cuda.is_available()\n",
    "\n",
    "def build_dataset(batch_size):\n",
    "\n",
    "    train_loader = get_loader(distortedImgDir = f'{dataset_dir}/train_distorted',\n",
    "                      flowDir   = f'{dataset_dir}/train_flow',\n",
    "                      batch_size = batch_size,\n",
    "                      distortion_type = ['barrel'])\n",
    "\n",
    "    val_loader = get_loader(distortedImgDir = f'{dataset_dir}/test_distorted',\n",
    "                  flowDir   = f'{dataset_dir}/test_flow',\n",
    "                  batch_size = batch_size,\n",
    "                  distortion_type = ['barrel'])\n",
    "\n",
    "    return train_loader, val_loader\n",
    "\n",
    "def build_network(batch_size):\n",
    "    model_1 = EncoderNet([1,1,1,1,2])\n",
    "    model_2 = ModelNet('barrel', batch_size)\n",
    "    criterion = EPELoss()\n",
    "\n",
    "    if torch.cuda.is_available():\n",
    "        model_1 = model_1.cuda()\n",
    "        model_2 = model_2.cuda()\n",
    "        criterion = criterion.cuda()\n",
    "\n",
    "    return model_1, model_2, criterion\n",
    "\n",
    "def build_optimizer(network, optimizer, learning_rate):\n",
    "    if optimizer == 'adam':\n",
    "        optimizer = torch.optim.Adam(network.parameters(), lr=learning_rate)\n",
    "\n",
    "    elif optimizer == \"sgd\":\n",
    "        optimizer = torch.optim.SGD(network.parameters(),\n",
    "                               lr=learning_rate, momentum=0.9)\n",
    "\n",
    "    scheduler = StepLR(optimizer, step_size=2, gamma=0.5)\n",
    "\n",
    "    return optimizer, scheduler"
   ]
  },
  {
   "cell_type": "markdown",
   "metadata": {
    "id": "a98kDjbc9rC1"
   },
   "source": [
    "##**TRAIN**"
   ]
  },
  {
   "cell_type": "code",
   "execution_count": 11,
   "metadata": {
    "id": "I0NMPXtksxpz",
    "colab": {
     "base_uri": "https://localhost:8080/"
    },
    "outputId": "1150b1aa-bcc9-44bd-f8e6-f2c005fe9736"
   },
   "outputs": [
    {
     "output_type": "stream",
     "name": "stdout",
     "text": [
      "\u001B[2K     \u001B[90m━━━━━━━━━━━━━━━━━━━━━━━━━━━━━━━━━━━━━━━━\u001B[0m \u001B[32m6.9/6.9 MB\u001B[0m \u001B[31m52.0 MB/s\u001B[0m eta \u001B[36m0:00:00\u001B[0m\n",
      "\u001B[2K     \u001B[90m━━━━━━━━━━━━━━━━━━━━━━━━━━━━━━━━━━━━━━━━\u001B[0m \u001B[32m207.3/207.3 kB\u001B[0m \u001B[31m26.8 MB/s\u001B[0m eta \u001B[36m0:00:00\u001B[0m\n",
      "\u001B[2K     \u001B[90m━━━━━━━━━━━━━━━━━━━━━━━━━━━━━━━━━━━━━━━━\u001B[0m \u001B[32m300.2/300.2 kB\u001B[0m \u001B[31m37.4 MB/s\u001B[0m eta \u001B[36m0:00:00\u001B[0m\n",
      "\u001B[2K     \u001B[90m━━━━━━━━━━━━━━━━━━━━━━━━━━━━━━━━━━━━━━━━\u001B[0m \u001B[32m62.7/62.7 kB\u001B[0m \u001B[31m9.5 MB/s\u001B[0m eta \u001B[36m0:00:00\u001B[0m\n",
      "\u001B[?25h"
     ]
    }
   ],
   "source": [
    "# Ejecutar en caso de error con wandb.login()\n",
    "!pip install wandb -qU"
   ]
  },
  {
   "cell_type": "code",
   "execution_count": 12,
   "metadata": {
    "colab": {
     "base_uri": "https://localhost:8080/"
    },
    "id": "omivXkXi-j5n",
    "outputId": "ff9e432b-e138-4eb7-c6dc-072a31c4ac8f"
   },
   "outputs": [
    {
     "output_type": "stream",
     "name": "stderr",
     "text": [
      "\u001B[34m\u001B[1mwandb\u001B[0m: W&B API key is configured. Use \u001B[1m`wandb login --relogin`\u001B[0m to force relogin\n",
      "\u001B[34m\u001B[1mwandb\u001B[0m: \u001B[33mWARNING\u001B[0m If you're specifying your api key in code, ensure this code is not shared publicly.\n",
      "\u001B[34m\u001B[1mwandb\u001B[0m: \u001B[33mWARNING\u001B[0m Consider setting the WANDB_API_KEY environment variable, or running `wandb login` from the command line.\n",
      "\u001B[34m\u001B[1mwandb\u001B[0m: Appending key for api.wandb.ai to your netrc file: /root/.netrc\n"
     ]
    },
    {
     "output_type": "execute_result",
     "data": {
      "text/plain": [
       "True"
      ]
     },
     "metadata": {},
     "execution_count": 12
    }
   ],
   "source": [
    "# Api Key: da6f58c0b21d44fbbca8c02456e6cbe6c7a085cb\n",
    "import wandb\n",
    "wandb.login(key = \"da6f58c0b21d44fbbca8c02456e6cbe6c7a085cb\")"
   ]
  },
  {
   "cell_type": "code",
   "source": [
    "sweep_id = wandb.sweep(sweep_config, project=\"pytorch-sweeps-demo-tfg\")"
   ],
   "metadata": {
    "id": "9X22ca4-Worx",
    "colab": {
     "base_uri": "https://localhost:8080/"
    },
    "outputId": "b7b6957a-7247-4a87-b905-f7078db8fb38"
   },
   "execution_count": 13,
   "outputs": [
    {
     "output_type": "stream",
     "name": "stdout",
     "text": [
      "Create sweep with ID: ylkb2h6s\n",
      "Sweep URL: https://wandb.ai/joeldev/pytorch-sweeps-demo-tfg/sweeps/ylkb2h6s\n"
     ]
    }
   ]
  },
  {
   "cell_type": "markdown",
   "metadata": {
    "id": "T4i5FVSGcu5y"
   },
   "source": [
    "**Start training**"
   ]
  },
  {
   "cell_type": "code",
   "source": [
    "def train_epoch(epoch, model_1, model_2, train_loader, optimizer, criterion, batch_size):\n",
    "    cumu_loss = 0.0\n",
    "    batch_loss = 0.0\n",
    "\n",
    "    n_steps_per_epoch = math.ceil(len(train_loader) / batch_size)\n",
    "\n",
    "    for i, (disimgs, disx, disy) in enumerate(train_loader):\n",
    "        if torch.cuda.is_available():\n",
    "            disimgs = disimgs.cuda()\n",
    "            disx = disx.cuda()\n",
    "            disy = disy.cuda()\n",
    "\n",
    "        optimizer.zero_grad()\n",
    "\n",
    "        labels_x = disx\n",
    "        labels_y = disy\n",
    "\n",
    "        flow_truth = torch.cat([labels_x, labels_y], dim=1)\n",
    "\n",
    "        # Forward pass\n",
    "        flow_output_1 = model_1(disimgs)\n",
    "        flow_output = model_2(flow_output_1)\n",
    "\n",
    "        # Calculate loss\n",
    "        loss = criterion(flow_output, flow_truth)\n",
    "\n",
    "        # Backward pass and optimization step\n",
    "        loss.backward()\n",
    "        optimizer.step()\n",
    "\n",
    "        # Accumulate total loss\n",
    "        cumu_loss += loss.item()\n",
    "        batch_loss += loss.item()\n",
    "\n",
    "        if (i + 1) % n_steps_per_epoch == 0:\n",
    "            last_loss = batch_loss / n_steps_per_epoch\n",
    "            # step = epoch * len(train_loader) + i - 1\n",
    "            print(f\"Iter {i + 1} Loss {last_loss}\")\n",
    "            wandb.log({\"train_loss\": last_loss, \"step\": epoch * len(train_loader) + i + 1})\n",
    "            batch_loss = 0.0  # Reset total loss after logging\n",
    "\n",
    "    # Calculate average loss for the epoch\n",
    "    average_loss = cumu_loss / len(train_loader)\n",
    "\n",
    "    print(\"Average Epoch Loss\",average_loss)\n",
    "\n",
    "    return average_loss"
   ],
   "metadata": {
    "id": "mWTLWLtBlTLj"
   },
   "execution_count": 14,
   "outputs": []
  },
  {
   "cell_type": "code",
   "source": [
    "def train(config=None):\n",
    "    # Initialize a new wandb run\n",
    "    with wandb.init(config=config):\n",
    "        # If called by wandb.agent, as below,\n",
    "        # this config will be set by Sweep Controller\n",
    "        config = wandb.config\n",
    "\n",
    "        wandb.define_metric(\"epoch/step\")\n",
    "        wandb.define_metric(\"epoch/*\", step_metric=\"epoch/step\")\n",
    "\n",
    "        train_loader, val_loader = build_dataset(config.batch_size)\n",
    "        model_1, model_2, criterion = build_network(config.batch_size)\n",
    "        optimizer, scheduler = build_optimizer(model_1, config.optimizer, config.learning_rate)\n",
    "\n",
    "        for epoch in range(config.epochs):\n",
    "            model_1.train()\n",
    "            model_2.train()\n",
    "\n",
    "            avg_train_loss = train_epoch(epoch, model_1, model_2, train_loader, optimizer, criterion, config.batch_size)\n",
    "            wandb.log({\"loss\": avg_train_loss, \"epoch\": epoch})\n",
    "\n",
    "            running_val_loss = 0.0\n",
    "            # Set the model to evaluation mode, disabling dropout and using population\n",
    "            # statistics for batch normalization.\n",
    "            model_1.eval()\n",
    "            model_2.eval()\n",
    "\n",
    "            # Disable gradient computation and reduce memory consumption.\n",
    "            with torch.no_grad():\n",
    "                for i, (disimgs, disx, disy) in enumerate(val_loader):\n",
    "                    if use_GPU:\n",
    "                        torch.cuda.empty_cache()\n",
    "                        disimgs = disimgs.cuda()\n",
    "                        disx = disx.cuda()\n",
    "                        disy = disy.cuda()\n",
    "\n",
    "                    labels_x = disx\n",
    "                    labels_y = disy\n",
    "\n",
    "                    flow_truth = torch.cat([labels_x, labels_y], dim=1)\n",
    "\n",
    "                    # In one step\n",
    "                    flow_output = model_2(model_1(disimgs))\n",
    "\n",
    "                    val_loss = criterion(flow_output, flow_truth)\n",
    "                    running_val_loss += val_loss\n",
    "\n",
    "            avg_val_loss = running_val_loss / len(val_loader)\n",
    "            print(f'EPOCH {epoch}, LOSS train {avg_train_loss} LOSS val {avg_val_loss}')\n",
    "            wandb.log({\n",
    "            \"epoch/avg_train_loss\": avg_train_loss,\n",
    "            \"epoch/avg_val_loss\": avg_val_loss,\n",
    "            \"epoch/step\":epoch})\n",
    "\n",
    "            scheduler.step()\n"
   ],
   "metadata": {
    "id": "WH1tb6V-Wuaz"
   },
   "execution_count": 15,
   "outputs": []
  },
  {
   "cell_type": "code",
   "source": [
    "wandb.agent(sweep_id, train, count=20)"
   ],
   "metadata": {
    "id": "P0STEAQmpC4U",
    "colab": {
     "base_uri": "https://localhost:8080/",
     "height": 1000,
     "referenced_widgets": [
      "56c11465f3594c91826637a2a84c9aa2",
      "bfffa8fb91f8474ba1bec3df2e54bef3",
      "c307006e9f6443f4be9c1f785a693c63",
      "80c6c76595804fc1b642876d34ec0812",
      "c12b5d8746c84e0d9a8f5945ad23fc81",
      "e528a12e78f94500ae957a37af9d2926",
      "819b87e16f454df5a372ce19256593e0",
      "3a697099e9624e3ea109a3c7ae1b3f4b",
      "420d06047fb74200a9aa0918d77f8276",
      "435d0d652023482ba5975a2405b6b28e",
      "3a339403c61d454ba4f3c301d9848f85",
      "5d0ddc9279524937b3bb66209cee5dcf",
      "77e63c5c9ca643f4a3fcb81ed7a88dae",
      "e19343b91fb549489616347656c35c0a",
      "6791b420bc074dde9a517d1c864c38ac",
      "a177ba226a6a4159aac9f5dfe8c94bc8",
      "897d3a655df9470087dc742b4de38b81",
      "711174555d514f6cb48bc7d5a839eac6",
      "f373df8210a34b9885b31ea7b4291f81",
      "239a027b75224ea9b34008d2a7c16d83",
      "03aa3dc34ce64236b10c08de3087c9cd",
      "895749c936dc440bb4d1e3432055f09c",
      "b387c03fa1804067a92663f24d392ade",
      "e3c1c88003ed414e980aa34a353281e2"
     ]
    },
    "outputId": "f07e6ad0-03c6-452a-fe4b-c64c18ce67ab"
   },
   "execution_count": 16,
   "outputs": [
    {
     "output_type": "stream",
     "name": "stderr",
     "text": [
      "\u001B[34m\u001B[1mwandb\u001B[0m: Agent Starting Run: o2ippa6w with config:\n",
      "\u001B[34m\u001B[1mwandb\u001B[0m: \tbatch_size: 32\n",
      "\u001B[34m\u001B[1mwandb\u001B[0m: \tepochs: 10\n",
      "\u001B[34m\u001B[1mwandb\u001B[0m: \tlearning_rate: 1e-06\n",
      "\u001B[34m\u001B[1mwandb\u001B[0m: \toptimizer: adam\n",
      "\u001B[34m\u001B[1mwandb\u001B[0m: Currently logged in as: \u001B[33mjoeldev\u001B[0m. Use \u001B[1m`wandb login --relogin`\u001B[0m to force relogin\n"
     ]
    },
    {
     "output_type": "display_data",
     "data": {
      "text/plain": [
       "<IPython.core.display.HTML object>"
      ],
      "text/html": [
       "Tracking run with wandb version 0.17.3"
      ]
     },
     "metadata": {}
    },
    {
     "output_type": "display_data",
     "data": {
      "text/plain": [
       "<IPython.core.display.HTML object>"
      ],
      "text/html": [
       "Run data is saved locally in <code>/content/drive/MyDrive/TFG/GeoProj/wandb/run-20240630_165739-o2ippa6w</code>"
      ]
     },
     "metadata": {}
    },
    {
     "output_type": "display_data",
     "data": {
      "text/plain": [
       "<IPython.core.display.HTML object>"
      ],
      "text/html": [
       "Syncing run <strong><a href='https://wandb.ai/joeldev/pytorch-sweeps-demo-tfg/runs/o2ippa6w' target=\"_blank\">comic-sweep-1</a></strong> to <a href='https://wandb.ai/joeldev/pytorch-sweeps-demo-tfg' target=\"_blank\">Weights & Biases</a> (<a href='https://wandb.me/run' target=\"_blank\">docs</a>)<br/>Sweep page: <a href='https://wandb.ai/joeldev/pytorch-sweeps-demo-tfg/sweeps/ylkb2h6s' target=\"_blank\">https://wandb.ai/joeldev/pytorch-sweeps-demo-tfg/sweeps/ylkb2h6s</a>"
      ]
     },
     "metadata": {}
    },
    {
     "output_type": "display_data",
     "data": {
      "text/plain": [
       "<IPython.core.display.HTML object>"
      ],
      "text/html": [
       " View project at <a href='https://wandb.ai/joeldev/pytorch-sweeps-demo-tfg' target=\"_blank\">https://wandb.ai/joeldev/pytorch-sweeps-demo-tfg</a>"
      ]
     },
     "metadata": {}
    },
    {
     "output_type": "display_data",
     "data": {
      "text/plain": [
       "<IPython.core.display.HTML object>"
      ],
      "text/html": [
       " View sweep at <a href='https://wandb.ai/joeldev/pytorch-sweeps-demo-tfg/sweeps/ylkb2h6s' target=\"_blank\">https://wandb.ai/joeldev/pytorch-sweeps-demo-tfg/sweeps/ylkb2h6s</a>"
      ]
     },
     "metadata": {}
    },
    {
     "output_type": "display_data",
     "data": {
      "text/plain": [
       "<IPython.core.display.HTML object>"
      ],
      "text/html": [
       " View run at <a href='https://wandb.ai/joeldev/pytorch-sweeps-demo-tfg/runs/o2ippa6w' target=\"_blank\">https://wandb.ai/joeldev/pytorch-sweeps-demo-tfg/runs/o2ippa6w</a>"
      ]
     },
     "metadata": {}
    },
    {
     "output_type": "stream",
     "name": "stdout",
     "text": [
      "Iter 2 Loss 13.715343475341797\n",
      "Iter 4 Loss 12.33252239227295\n",
      "Iter 6 Loss 11.641318321228027\n",
      "Iter 8 Loss 10.450703144073486\n",
      "Iter 10 Loss 11.887238502502441\n",
      "Average Epoch Loss 12.00542516708374\n",
      "Optimizer in epoch 0 Adam (\n",
      "Parameter Group 0\n",
      "    amsgrad: False\n",
      "    betas: (0.9, 0.999)\n",
      "    capturable: False\n",
      "    differentiable: False\n",
      "    eps: 1e-08\n",
      "    foreach: None\n",
      "    fused: None\n",
      "    initial_lr: 1e-06\n",
      "    lr: 1e-06\n",
      "    maximize: False\n",
      "    weight_decay: 0\n",
      ")\n",
      "EPOCH 0, LOSS train 12.00542516708374 LOSS val 10.482401847839355\n",
      "Iter 2 Loss 10.166038990020752\n",
      "Iter 4 Loss 9.462498188018799\n",
      "Iter 6 Loss 9.34909439086914\n",
      "Iter 8 Loss 11.296338081359863\n",
      "Iter 10 Loss 9.366063594818115\n",
      "Average Epoch Loss 9.928006649017334\n",
      "Optimizer in epoch 1 Adam (\n",
      "Parameter Group 0\n",
      "    amsgrad: False\n",
      "    betas: (0.9, 0.999)\n",
      "    capturable: False\n",
      "    differentiable: False\n",
      "    eps: 1e-08\n",
      "    foreach: None\n",
      "    fused: None\n",
      "    initial_lr: 1e-06\n",
      "    lr: 1e-06\n",
      "    maximize: False\n",
      "    weight_decay: 0\n",
      ")\n",
      "EPOCH 1, LOSS train 9.928006649017334 LOSS val 9.161770820617676\n",
      "Iter 2 Loss 10.193848609924316\n",
      "Iter 4 Loss 8.598005771636963\n",
      "Iter 6 Loss 9.229455947875977\n",
      "Iter 8 Loss 7.516198635101318\n",
      "Iter 10 Loss 7.644157886505127\n",
      "Average Epoch Loss 8.63633337020874\n",
      "Optimizer in epoch 2 Adam (\n",
      "Parameter Group 0\n",
      "    amsgrad: False\n",
      "    betas: (0.9, 0.999)\n",
      "    capturable: False\n",
      "    differentiable: False\n",
      "    eps: 1e-08\n",
      "    foreach: None\n",
      "    fused: None\n",
      "    initial_lr: 1e-06\n",
      "    lr: 5e-07\n",
      "    maximize: False\n",
      "    weight_decay: 0\n",
      ")\n",
      "EPOCH 2, LOSS train 8.63633337020874 LOSS val 8.012731552124023\n",
      "Iter 2 Loss 7.6241233348846436\n",
      "Iter 4 Loss 7.712618350982666\n",
      "Iter 6 Loss 8.000637531280518\n",
      "Iter 8 Loss 9.530209064483643\n",
      "Iter 10 Loss 8.803581714630127\n",
      "Average Epoch Loss 8.33423399925232\n",
      "Optimizer in epoch 3 Adam (\n",
      "Parameter Group 0\n",
      "    amsgrad: False\n",
      "    betas: (0.9, 0.999)\n",
      "    capturable: False\n",
      "    differentiable: False\n",
      "    eps: 1e-08\n",
      "    foreach: None\n",
      "    fused: None\n",
      "    initial_lr: 1e-06\n",
      "    lr: 5e-07\n",
      "    maximize: False\n",
      "    weight_decay: 0\n",
      ")\n",
      "EPOCH 3, LOSS train 8.33423399925232 LOSS val 7.706839084625244\n",
      "Iter 2 Loss 7.032143831253052\n",
      "Iter 4 Loss 7.257773399353027\n",
      "Iter 6 Loss 7.921402215957642\n",
      "Iter 8 Loss 7.005569934844971\n",
      "Iter 10 Loss 7.705925703048706\n",
      "Average Epoch Loss 7.384563016891479\n",
      "Optimizer in epoch 4 Adam (\n",
      "Parameter Group 0\n",
      "    amsgrad: False\n",
      "    betas: (0.9, 0.999)\n",
      "    capturable: False\n",
      "    differentiable: False\n",
      "    eps: 1e-08\n",
      "    foreach: None\n",
      "    fused: None\n",
      "    initial_lr: 1e-06\n",
      "    lr: 2.5e-07\n",
      "    maximize: False\n",
      "    weight_decay: 0\n",
      ")\n",
      "EPOCH 4, LOSS train 7.384563016891479 LOSS val 7.776798725128174\n",
      "Iter 2 Loss 7.4897356033325195\n",
      "Iter 4 Loss 9.031956195831299\n",
      "Iter 6 Loss 8.28142499923706\n",
      "Iter 8 Loss 8.019642353057861\n",
      "Iter 10 Loss 6.057363510131836\n",
      "Average Epoch Loss 7.776024532318115\n",
      "Optimizer in epoch 5 Adam (\n",
      "Parameter Group 0\n",
      "    amsgrad: False\n",
      "    betas: (0.9, 0.999)\n",
      "    capturable: False\n",
      "    differentiable: False\n",
      "    eps: 1e-08\n",
      "    foreach: None\n",
      "    fused: None\n",
      "    initial_lr: 1e-06\n",
      "    lr: 2.5e-07\n",
      "    maximize: False\n",
      "    weight_decay: 0\n",
      ")\n",
      "EPOCH 5, LOSS train 7.776024532318115 LOSS val 7.632346153259277\n",
      "Iter 2 Loss 7.150119781494141\n",
      "Iter 4 Loss 6.32504415512085\n",
      "Iter 6 Loss 7.191995143890381\n",
      "Iter 8 Loss 7.902621269226074\n",
      "Iter 10 Loss 8.472738265991211\n",
      "Average Epoch Loss 7.408503723144531\n",
      "Optimizer in epoch 6 Adam (\n",
      "Parameter Group 0\n",
      "    amsgrad: False\n",
      "    betas: (0.9, 0.999)\n",
      "    capturable: False\n",
      "    differentiable: False\n",
      "    eps: 1e-08\n",
      "    foreach: None\n",
      "    fused: None\n",
      "    initial_lr: 1e-06\n",
      "    lr: 1.25e-07\n",
      "    maximize: False\n",
      "    weight_decay: 0\n",
      ")\n",
      "EPOCH 6, LOSS train 7.408503723144531 LOSS val 7.761886119842529\n",
      "Iter 2 Loss 7.02845311164856\n",
      "Iter 4 Loss 7.032456398010254\n",
      "Iter 6 Loss 7.322003364562988\n",
      "Iter 8 Loss 7.587726831436157\n",
      "Iter 10 Loss 7.729090929031372\n",
      "Average Epoch Loss 7.339946126937866\n",
      "Optimizer in epoch 7 Adam (\n",
      "Parameter Group 0\n",
      "    amsgrad: False\n",
      "    betas: (0.9, 0.999)\n",
      "    capturable: False\n",
      "    differentiable: False\n",
      "    eps: 1e-08\n",
      "    foreach: None\n",
      "    fused: None\n",
      "    initial_lr: 1e-06\n",
      "    lr: 1.25e-07\n",
      "    maximize: False\n",
      "    weight_decay: 0\n",
      ")\n",
      "EPOCH 7, LOSS train 7.339946126937866 LOSS val 7.692012786865234\n",
      "Iter 2 Loss 7.712691783905029\n",
      "Iter 4 Loss 6.589066028594971\n",
      "Iter 6 Loss 8.378639698028564\n",
      "Iter 8 Loss 7.4566426277160645\n",
      "Iter 10 Loss 6.122802257537842\n",
      "Average Epoch Loss 7.251968479156494\n",
      "Optimizer in epoch 8 Adam (\n",
      "Parameter Group 0\n",
      "    amsgrad: False\n",
      "    betas: (0.9, 0.999)\n",
      "    capturable: False\n",
      "    differentiable: False\n",
      "    eps: 1e-08\n",
      "    foreach: None\n",
      "    fused: None\n",
      "    initial_lr: 1e-06\n",
      "    lr: 6.25e-08\n",
      "    maximize: False\n",
      "    weight_decay: 0\n",
      ")\n",
      "EPOCH 8, LOSS train 7.251968479156494 LOSS val 7.6738433837890625\n",
      "Iter 2 Loss 7.512476205825806\n",
      "Iter 4 Loss 7.982298851013184\n",
      "Iter 6 Loss 6.432690143585205\n",
      "Iter 8 Loss 6.950838327407837\n",
      "Iter 10 Loss 6.520359516143799\n",
      "Average Epoch Loss 7.079732608795166\n",
      "Optimizer in epoch 9 Adam (\n",
      "Parameter Group 0\n",
      "    amsgrad: False\n",
      "    betas: (0.9, 0.999)\n",
      "    capturable: False\n",
      "    differentiable: False\n",
      "    eps: 1e-08\n",
      "    foreach: None\n",
      "    fused: None\n",
      "    initial_lr: 1e-06\n",
      "    lr: 6.25e-08\n",
      "    maximize: False\n",
      "    weight_decay: 0\n",
      ")\n",
      "EPOCH 9, LOSS train 7.079732608795166 LOSS val 7.620964050292969\n"
     ]
    },
    {
     "output_type": "display_data",
     "data": {
      "text/plain": [
       "VBox(children=(Label(value='0.001 MB of 0.016 MB uploaded\\r'), FloatProgress(value=0.07378513577894236, max=1.…"
      ],
      "application/vnd.jupyter.widget-view+json": {
       "version_major": 2,
       "version_minor": 0,
       "model_id": "56c11465f3594c91826637a2a84c9aa2"
      }
     },
     "metadata": {}
    },
    {
     "output_type": "display_data",
     "data": {
      "text/plain": [
       "<IPython.core.display.HTML object>"
      ],
      "text/html": [
       "<style>\n",
       "    table.wandb td:nth-child(1) { padding: 0 10px; text-align: left ; width: auto;} td:nth-child(2) {text-align: left ; width: 100%}\n",
       "    .wandb-row { display: flex; flex-direction: row; flex-wrap: wrap; justify-content: flex-start; width: 100% }\n",
       "    .wandb-col { display: flex; flex-direction: column; flex-basis: 100%; flex: 1; padding: 10px; }\n",
       "    </style>\n",
       "<div class=\"wandb-row\"><div class=\"wandb-col\"><h3>Run history:</h3><br/><table class=\"wandb\"><tr><td>epoch</td><td>▁▂▃▃▄▅▆▆▇█</td></tr><tr><td>epoch/avg_train_loss</td><td>█▅▃▃▁▂▁▁▁▁</td></tr><tr><td>epoch/avg_val_loss</td><td>█▅▂▁▁▁▁▁▁▁</td></tr><tr><td>epoch/step</td><td>▁▂▃▃▄▅▆▆▇█</td></tr><tr><td>loss</td><td>█▅▃▃▁▂▁▁▁▁</td></tr><tr><td>step</td><td>▁▁▁▁▂▂▂▂▂▃▃▃▃▃▃▄▄▄▄▄▅▅▅▅▅▅▆▆▆▆▆▆▇▇▇▇▇███</td></tr><tr><td>train_loss</td><td>█▇▆▅▅▄▄▆▅▃▄▂▂▂▃▄▂▂▃▂▂▄▃▃▂▁▂▂▂▂▂▂▂▁▃▂▂▃▁▁</td></tr></table><br/></div><div class=\"wandb-col\"><h3>Run summary:</h3><br/><table class=\"wandb\"><tr><td>epoch</td><td>9</td></tr><tr><td>epoch/avg_train_loss</td><td>7.07973</td></tr><tr><td>epoch/avg_val_loss</td><td>7.62096</td></tr><tr><td>epoch/step</td><td>9</td></tr><tr><td>loss</td><td>7.07973</td></tr><tr><td>step</td><td>100</td></tr><tr><td>train_loss</td><td>6.52036</td></tr></table><br/></div></div>"
      ]
     },
     "metadata": {}
    },
    {
     "output_type": "display_data",
     "data": {
      "text/plain": [
       "<IPython.core.display.HTML object>"
      ],
      "text/html": [
       " View run <strong style=\"color:#cdcd00\">comic-sweep-1</strong> at: <a href='https://wandb.ai/joeldev/pytorch-sweeps-demo-tfg/runs/o2ippa6w' target=\"_blank\">https://wandb.ai/joeldev/pytorch-sweeps-demo-tfg/runs/o2ippa6w</a><br/> View project at: <a href='https://wandb.ai/joeldev/pytorch-sweeps-demo-tfg' target=\"_blank\">https://wandb.ai/joeldev/pytorch-sweeps-demo-tfg</a><br/>Synced 5 W&B file(s), 0 media file(s), 0 artifact file(s) and 0 other file(s)"
      ]
     },
     "metadata": {}
    },
    {
     "output_type": "display_data",
     "data": {
      "text/plain": [
       "<IPython.core.display.HTML object>"
      ],
      "text/html": [
       "Find logs at: <code>./wandb/run-20240630_165739-o2ippa6w/logs</code>"
      ]
     },
     "metadata": {}
    },
    {
     "output_type": "display_data",
     "data": {
      "text/plain": [
       "<IPython.core.display.HTML object>"
      ],
      "text/html": [
       "The new W&B backend becomes opt-out in version 0.18.0; try it out with `wandb.require(\"core\")`! See https://wandb.me/wandb-core for more information."
      ]
     },
     "metadata": {}
    },
    {
     "output_type": "stream",
     "name": "stderr",
     "text": [
      "\u001B[34m\u001B[1mwandb\u001B[0m: Agent Starting Run: s7qm9tig with config:\n",
      "\u001B[34m\u001B[1mwandb\u001B[0m: \tbatch_size: 32\n",
      "\u001B[34m\u001B[1mwandb\u001B[0m: \tepochs: 10\n",
      "\u001B[34m\u001B[1mwandb\u001B[0m: \tlearning_rate: 1e-05\n",
      "\u001B[34m\u001B[1mwandb\u001B[0m: \toptimizer: adam\n"
     ]
    },
    {
     "output_type": "display_data",
     "data": {
      "text/plain": [
       "<IPython.core.display.HTML object>"
      ],
      "text/html": [
       "Tracking run with wandb version 0.17.3"
      ]
     },
     "metadata": {}
    },
    {
     "output_type": "display_data",
     "data": {
      "text/plain": [
       "<IPython.core.display.HTML object>"
      ],
      "text/html": [
       "Run data is saved locally in <code>/content/drive/MyDrive/TFG/GeoProj/wandb/run-20240630_170700-s7qm9tig</code>"
      ]
     },
     "metadata": {}
    },
    {
     "output_type": "display_data",
     "data": {
      "text/plain": [
       "<IPython.core.display.HTML object>"
      ],
      "text/html": [
       "Syncing run <strong><a href='https://wandb.ai/joeldev/pytorch-sweeps-demo-tfg/runs/s7qm9tig' target=\"_blank\">fearless-sweep-2</a></strong> to <a href='https://wandb.ai/joeldev/pytorch-sweeps-demo-tfg' target=\"_blank\">Weights & Biases</a> (<a href='https://wandb.me/run' target=\"_blank\">docs</a>)<br/>Sweep page: <a href='https://wandb.ai/joeldev/pytorch-sweeps-demo-tfg/sweeps/ylkb2h6s' target=\"_blank\">https://wandb.ai/joeldev/pytorch-sweeps-demo-tfg/sweeps/ylkb2h6s</a>"
      ]
     },
     "metadata": {}
    },
    {
     "output_type": "display_data",
     "data": {
      "text/plain": [
       "<IPython.core.display.HTML object>"
      ],
      "text/html": [
       " View project at <a href='https://wandb.ai/joeldev/pytorch-sweeps-demo-tfg' target=\"_blank\">https://wandb.ai/joeldev/pytorch-sweeps-demo-tfg</a>"
      ]
     },
     "metadata": {}
    },
    {
     "output_type": "display_data",
     "data": {
      "text/plain": [
       "<IPython.core.display.HTML object>"
      ],
      "text/html": [
       " View sweep at <a href='https://wandb.ai/joeldev/pytorch-sweeps-demo-tfg/sweeps/ylkb2h6s' target=\"_blank\">https://wandb.ai/joeldev/pytorch-sweeps-demo-tfg/sweeps/ylkb2h6s</a>"
      ]
     },
     "metadata": {}
    },
    {
     "output_type": "display_data",
     "data": {
      "text/plain": [
       "<IPython.core.display.HTML object>"
      ],
      "text/html": [
       " View run at <a href='https://wandb.ai/joeldev/pytorch-sweeps-demo-tfg/runs/s7qm9tig' target=\"_blank\">https://wandb.ai/joeldev/pytorch-sweeps-demo-tfg/runs/s7qm9tig</a>"
      ]
     },
     "metadata": {}
    },
    {
     "output_type": "stream",
     "name": "stdout",
     "text": [
      "Iter 2 Loss 15.95506477355957\n",
      "Iter 4 Loss 10.850293159484863\n",
      "Iter 6 Loss 9.042210578918457\n",
      "Iter 8 Loss 7.042848587036133\n",
      "Iter 10 Loss 8.392436027526855\n",
      "Average Epoch Loss 10.256570625305176\n",
      "Optimizer in epoch 0 Adam (\n",
      "Parameter Group 0\n",
      "    amsgrad: False\n",
      "    betas: (0.9, 0.999)\n",
      "    capturable: False\n",
      "    differentiable: False\n",
      "    eps: 1e-08\n",
      "    foreach: None\n",
      "    fused: None\n",
      "    initial_lr: 1e-05\n",
      "    lr: 1e-05\n",
      "    maximize: False\n",
      "    weight_decay: 0\n",
      ")\n",
      "EPOCH 0, LOSS train 10.256570625305176 LOSS val 9.048460960388184\n",
      "Iter 2 Loss 11.600654602050781\n",
      "Iter 4 Loss 20.18429946899414\n",
      "Iter 6 Loss 11.715482711791992\n",
      "Iter 8 Loss 26.280030250549316\n",
      "Iter 10 Loss 15.644510269165039\n",
      "Average Epoch Loss 17.084995460510253\n",
      "Optimizer in epoch 1 Adam (\n",
      "Parameter Group 0\n",
      "    amsgrad: False\n",
      "    betas: (0.9, 0.999)\n",
      "    capturable: False\n",
      "    differentiable: False\n",
      "    eps: 1e-08\n",
      "    foreach: None\n",
      "    fused: None\n",
      "    initial_lr: 1e-05\n",
      "    lr: 1e-05\n",
      "    maximize: False\n",
      "    weight_decay: 0\n",
      ")\n",
      "EPOCH 1, LOSS train 17.084995460510253 LOSS val 7.189462661743164\n",
      "Iter 2 Loss 12.746068954467773\n",
      "Iter 4 Loss 12.053815841674805\n",
      "Iter 6 Loss 8.437293529510498\n",
      "Iter 8 Loss 9.6361665725708\n",
      "Iter 10 Loss 28.599719524383545\n",
      "Average Epoch Loss 14.294612884521484\n",
      "Optimizer in epoch 2 Adam (\n",
      "Parameter Group 0\n",
      "    amsgrad: False\n",
      "    betas: (0.9, 0.999)\n",
      "    capturable: False\n",
      "    differentiable: False\n",
      "    eps: 1e-08\n",
      "    foreach: None\n",
      "    fused: None\n",
      "    initial_lr: 1e-05\n",
      "    lr: 5e-06\n",
      "    maximize: False\n",
      "    weight_decay: 0\n",
      ")\n",
      "EPOCH 2, LOSS train 14.294612884521484 LOSS val 6.559212684631348\n",
      "Iter 2 Loss 9.447632789611816\n",
      "Iter 4 Loss 10.30918025970459\n",
      "Iter 6 Loss 7.87670373916626\n",
      "Iter 8 Loss 10.4612135887146\n",
      "Iter 10 Loss 20.887579917907715\n",
      "Average Epoch Loss 11.796462059020996\n",
      "Optimizer in epoch 3 Adam (\n",
      "Parameter Group 0\n",
      "    amsgrad: False\n",
      "    betas: (0.9, 0.999)\n",
      "    capturable: False\n",
      "    differentiable: False\n",
      "    eps: 1e-08\n",
      "    foreach: None\n",
      "    fused: None\n",
      "    initial_lr: 1e-05\n",
      "    lr: 5e-06\n",
      "    maximize: False\n",
      "    weight_decay: 0\n",
      ")\n",
      "EPOCH 3, LOSS train 11.796462059020996 LOSS val 7.059039115905762\n",
      "Iter 2 Loss 9.638727188110352\n",
      "Iter 4 Loss 35.06571960449219\n",
      "Iter 6 Loss 10.176125526428223\n",
      "Iter 8 Loss 9.17070198059082\n",
      "Iter 10 Loss 8.834925174713135\n",
      "Average Epoch Loss 14.577239894866944\n",
      "Optimizer in epoch 4 Adam (\n",
      "Parameter Group 0\n",
      "    amsgrad: False\n",
      "    betas: (0.9, 0.999)\n",
      "    capturable: False\n",
      "    differentiable: False\n",
      "    eps: 1e-08\n",
      "    foreach: None\n",
      "    fused: None\n",
      "    initial_lr: 1e-05\n",
      "    lr: 2.5e-06\n",
      "    maximize: False\n",
      "    weight_decay: 0\n",
      ")\n",
      "EPOCH 4, LOSS train 14.577239894866944 LOSS val 7.587923049926758\n",
      "Iter 2 Loss 56.969884395599365\n",
      "Iter 4 Loss 9.730881214141846\n",
      "Iter 6 Loss 11.720412731170654\n",
      "Iter 8 Loss 19.458001136779785\n",
      "Iter 10 Loss 10.053216457366943\n",
      "Average Epoch Loss 21.58647918701172\n",
      "Optimizer in epoch 5 Adam (\n",
      "Parameter Group 0\n",
      "    amsgrad: False\n",
      "    betas: (0.9, 0.999)\n",
      "    capturable: False\n",
      "    differentiable: False\n",
      "    eps: 1e-08\n",
      "    foreach: None\n",
      "    fused: None\n",
      "    initial_lr: 1e-05\n",
      "    lr: 2.5e-06\n",
      "    maximize: False\n",
      "    weight_decay: 0\n",
      ")\n",
      "EPOCH 5, LOSS train 21.58647918701172 LOSS val 8.866724014282227\n",
      "Iter 2 Loss 12.680845260620117\n",
      "Iter 4 Loss 11.166249752044678\n",
      "Iter 6 Loss 10.276440620422363\n",
      "Iter 8 Loss 8.427597284317017\n",
      "Iter 10 Loss 19.993661880493164\n",
      "Average Epoch Loss 12.508958959579468\n",
      "Optimizer in epoch 6 Adam (\n",
      "Parameter Group 0\n",
      "    amsgrad: False\n",
      "    betas: (0.9, 0.999)\n",
      "    capturable: False\n",
      "    differentiable: False\n",
      "    eps: 1e-08\n",
      "    foreach: None\n",
      "    fused: None\n",
      "    initial_lr: 1e-05\n",
      "    lr: 1.25e-06\n",
      "    maximize: False\n",
      "    weight_decay: 0\n",
      ")\n",
      "EPOCH 6, LOSS train 12.508958959579468 LOSS val 9.245203018188477\n",
      "Iter 2 Loss 10.054568767547607\n",
      "Iter 4 Loss 14.031328201293945\n",
      "Iter 6 Loss 14.3226957321167\n",
      "Iter 8 Loss 10.125475883483887\n",
      "Iter 10 Loss 17.588321208953857\n",
      "Average Epoch Loss 13.224477958679199\n",
      "Optimizer in epoch 7 Adam (\n",
      "Parameter Group 0\n",
      "    amsgrad: False\n",
      "    betas: (0.9, 0.999)\n",
      "    capturable: False\n",
      "    differentiable: False\n",
      "    eps: 1e-08\n",
      "    foreach: None\n",
      "    fused: None\n",
      "    initial_lr: 1e-05\n",
      "    lr: 1.25e-06\n",
      "    maximize: False\n",
      "    weight_decay: 0\n",
      ")\n",
      "EPOCH 7, LOSS train 13.224477958679199 LOSS val 9.198431968688965\n",
      "Iter 2 Loss 14.357151985168457\n",
      "Iter 4 Loss 10.807363510131836\n",
      "Iter 6 Loss 12.433964252471924\n",
      "Iter 8 Loss 8.976831912994385\n",
      "Iter 10 Loss 21.35438823699951\n",
      "Average Epoch Loss 13.585939979553222\n",
      "Optimizer in epoch 8 Adam (\n",
      "Parameter Group 0\n",
      "    amsgrad: False\n",
      "    betas: (0.9, 0.999)\n",
      "    capturable: False\n",
      "    differentiable: False\n",
      "    eps: 1e-08\n",
      "    foreach: None\n",
      "    fused: None\n",
      "    initial_lr: 1e-05\n",
      "    lr: 6.25e-07\n",
      "    maximize: False\n",
      "    weight_decay: 0\n",
      ")\n",
      "EPOCH 8, LOSS train 13.585939979553222 LOSS val 9.177322387695312\n",
      "Iter 2 Loss 9.517460823059082\n",
      "Iter 4 Loss 14.664344787597656\n",
      "Iter 6 Loss 11.428359985351562\n",
      "Iter 8 Loss 10.355070114135742\n",
      "Iter 10 Loss 12.056697368621826\n",
      "Average Epoch Loss 11.604386615753175\n",
      "Optimizer in epoch 9 Adam (\n",
      "Parameter Group 0\n",
      "    amsgrad: False\n",
      "    betas: (0.9, 0.999)\n",
      "    capturable: False\n",
      "    differentiable: False\n",
      "    eps: 1e-08\n",
      "    foreach: None\n",
      "    fused: None\n",
      "    initial_lr: 1e-05\n",
      "    lr: 6.25e-07\n",
      "    maximize: False\n",
      "    weight_decay: 0\n",
      ")\n",
      "EPOCH 9, LOSS train 11.604386615753175 LOSS val 9.125112533569336\n"
     ]
    },
    {
     "output_type": "display_data",
     "data": {
      "text/plain": [
       "VBox(children=(Label(value='0.001 MB of 0.016 MB uploaded\\r'), FloatProgress(value=0.07360104550314839, max=1.…"
      ],
      "application/vnd.jupyter.widget-view+json": {
       "version_major": 2,
       "version_minor": 0,
       "model_id": "420d06047fb74200a9aa0918d77f8276"
      }
     },
     "metadata": {}
    },
    {
     "output_type": "display_data",
     "data": {
      "text/plain": [
       "<IPython.core.display.HTML object>"
      ],
      "text/html": [
       "<style>\n",
       "    table.wandb td:nth-child(1) { padding: 0 10px; text-align: left ; width: auto;} td:nth-child(2) {text-align: left ; width: 100%}\n",
       "    .wandb-row { display: flex; flex-direction: row; flex-wrap: wrap; justify-content: flex-start; width: 100% }\n",
       "    .wandb-col { display: flex; flex-direction: column; flex-basis: 100%; flex: 1; padding: 10px; }\n",
       "    </style>\n",
       "<div class=\"wandb-row\"><div class=\"wandb-col\"><h3>Run history:</h3><br/><table class=\"wandb\"><tr><td>epoch</td><td>▁▂▃▃▄▅▆▆▇█</td></tr><tr><td>epoch/avg_train_loss</td><td>▁▅▃▂▄█▂▃▃▂</td></tr><tr><td>epoch/avg_val_loss</td><td>▇▃▁▂▄▇████</td></tr><tr><td>epoch/step</td><td>▁▂▃▃▄▅▆▆▇█</td></tr><tr><td>loss</td><td>▁▅▃▂▄█▂▃▃▂</td></tr><tr><td>step</td><td>▁▁▁▁▂▂▂▂▂▃▃▃▃▃▃▄▄▄▄▄▅▅▅▅▅▅▆▆▆▆▆▆▇▇▇▇▇███</td></tr><tr><td>train_loss</td><td>▂▂▁▁▂▃▂▄▂▂▁▁▁▁▁▁▁▅▁▁█▁▂▃▂▂▁▁▁▂▂▁▂▂▂▁▁▂▂▂</td></tr></table><br/></div><div class=\"wandb-col\"><h3>Run summary:</h3><br/><table class=\"wandb\"><tr><td>epoch</td><td>9</td></tr><tr><td>epoch/avg_train_loss</td><td>11.60439</td></tr><tr><td>epoch/avg_val_loss</td><td>9.12511</td></tr><tr><td>epoch/step</td><td>9</td></tr><tr><td>loss</td><td>11.60439</td></tr><tr><td>step</td><td>100</td></tr><tr><td>train_loss</td><td>12.0567</td></tr></table><br/></div></div>"
      ]
     },
     "metadata": {}
    },
    {
     "output_type": "display_data",
     "data": {
      "text/plain": [
       "<IPython.core.display.HTML object>"
      ],
      "text/html": [
       " View run <strong style=\"color:#cdcd00\">fearless-sweep-2</strong> at: <a href='https://wandb.ai/joeldev/pytorch-sweeps-demo-tfg/runs/s7qm9tig' target=\"_blank\">https://wandb.ai/joeldev/pytorch-sweeps-demo-tfg/runs/s7qm9tig</a><br/> View project at: <a href='https://wandb.ai/joeldev/pytorch-sweeps-demo-tfg' target=\"_blank\">https://wandb.ai/joeldev/pytorch-sweeps-demo-tfg</a><br/>Synced 5 W&B file(s), 0 media file(s), 0 artifact file(s) and 0 other file(s)"
      ]
     },
     "metadata": {}
    },
    {
     "output_type": "display_data",
     "data": {
      "text/plain": [
       "<IPython.core.display.HTML object>"
      ],
      "text/html": [
       "Find logs at: <code>./wandb/run-20240630_170700-s7qm9tig/logs</code>"
      ]
     },
     "metadata": {}
    },
    {
     "output_type": "display_data",
     "data": {
      "text/plain": [
       "<IPython.core.display.HTML object>"
      ],
      "text/html": [
       "The new W&B backend becomes opt-out in version 0.18.0; try it out with `wandb.require(\"core\")`! See https://wandb.me/wandb-core for more information."
      ]
     },
     "metadata": {}
    },
    {
     "output_type": "stream",
     "name": "stderr",
     "text": [
      "\u001B[34m\u001B[1mwandb\u001B[0m: Agent Starting Run: f8ttcym0 with config:\n",
      "\u001B[34m\u001B[1mwandb\u001B[0m: \tbatch_size: 32\n",
      "\u001B[34m\u001B[1mwandb\u001B[0m: \tepochs: 10\n",
      "\u001B[34m\u001B[1mwandb\u001B[0m: \tlearning_rate: 0.0001\n",
      "\u001B[34m\u001B[1mwandb\u001B[0m: \toptimizer: adam\n"
     ]
    },
    {
     "output_type": "display_data",
     "data": {
      "text/plain": [
       "<IPython.core.display.HTML object>"
      ],
      "text/html": [
       "Tracking run with wandb version 0.17.3"
      ]
     },
     "metadata": {}
    },
    {
     "output_type": "display_data",
     "data": {
      "text/plain": [
       "<IPython.core.display.HTML object>"
      ],
      "text/html": [
       "Run data is saved locally in <code>/content/drive/MyDrive/TFG/GeoProj/wandb/run-20240630_170937-f8ttcym0</code>"
      ]
     },
     "metadata": {}
    },
    {
     "output_type": "display_data",
     "data": {
      "text/plain": [
       "<IPython.core.display.HTML object>"
      ],
      "text/html": [
       "Syncing run <strong><a href='https://wandb.ai/joeldev/pytorch-sweeps-demo-tfg/runs/f8ttcym0' target=\"_blank\">lyric-sweep-3</a></strong> to <a href='https://wandb.ai/joeldev/pytorch-sweeps-demo-tfg' target=\"_blank\">Weights & Biases</a> (<a href='https://wandb.me/run' target=\"_blank\">docs</a>)<br/>Sweep page: <a href='https://wandb.ai/joeldev/pytorch-sweeps-demo-tfg/sweeps/ylkb2h6s' target=\"_blank\">https://wandb.ai/joeldev/pytorch-sweeps-demo-tfg/sweeps/ylkb2h6s</a>"
      ]
     },
     "metadata": {}
    },
    {
     "output_type": "display_data",
     "data": {
      "text/plain": [
       "<IPython.core.display.HTML object>"
      ],
      "text/html": [
       " View project at <a href='https://wandb.ai/joeldev/pytorch-sweeps-demo-tfg' target=\"_blank\">https://wandb.ai/joeldev/pytorch-sweeps-demo-tfg</a>"
      ]
     },
     "metadata": {}
    },
    {
     "output_type": "display_data",
     "data": {
      "text/plain": [
       "<IPython.core.display.HTML object>"
      ],
      "text/html": [
       " View sweep at <a href='https://wandb.ai/joeldev/pytorch-sweeps-demo-tfg/sweeps/ylkb2h6s' target=\"_blank\">https://wandb.ai/joeldev/pytorch-sweeps-demo-tfg/sweeps/ylkb2h6s</a>"
      ]
     },
     "metadata": {}
    },
    {
     "output_type": "display_data",
     "data": {
      "text/plain": [
       "<IPython.core.display.HTML object>"
      ],
      "text/html": [
       " View run at <a href='https://wandb.ai/joeldev/pytorch-sweeps-demo-tfg/runs/f8ttcym0' target=\"_blank\">https://wandb.ai/joeldev/pytorch-sweeps-demo-tfg/runs/f8ttcym0</a>"
      ]
     },
     "metadata": {}
    },
    {
     "output_type": "stream",
     "name": "stdout",
     "text": [
      "Iter 2 Loss 13.547564506530762\n",
      "Iter 4 Loss 10.222711086273193\n",
      "Iter 6 Loss 13.007150173187256\n",
      "Iter 8 Loss 9.502224922180176\n",
      "Iter 10 Loss 9.34099817276001\n",
      "Average Epoch Loss 11.12412977218628\n",
      "Optimizer in epoch 0 Adam (\n",
      "Parameter Group 0\n",
      "    amsgrad: False\n",
      "    betas: (0.9, 0.999)\n",
      "    capturable: False\n",
      "    differentiable: False\n",
      "    eps: 1e-08\n",
      "    foreach: None\n",
      "    fused: None\n",
      "    initial_lr: 0.0001\n",
      "    lr: 0.0001\n",
      "    maximize: False\n",
      "    weight_decay: 0\n",
      ")\n",
      "EPOCH 0, LOSS train 11.12412977218628 LOSS val 8.59827995300293\n",
      "Iter 2 Loss 47.30213737487793\n",
      "Iter 4 Loss 180.280029296875\n",
      "Iter 6 Loss 465.9822692871094\n",
      "Iter 8 Loss 464.2354431152344\n",
      "Iter 10 Loss 326.4822311401367\n",
      "Average Epoch Loss 296.8564220428467\n",
      "Optimizer in epoch 1 Adam (\n",
      "Parameter Group 0\n",
      "    amsgrad: False\n",
      "    betas: (0.9, 0.999)\n",
      "    capturable: False\n",
      "    differentiable: False\n",
      "    eps: 1e-08\n",
      "    foreach: None\n",
      "    fused: None\n",
      "    initial_lr: 0.0001\n",
      "    lr: 0.0001\n",
      "    maximize: False\n",
      "    weight_decay: 0\n",
      ")\n",
      "EPOCH 1, LOSS train 296.8564220428467 LOSS val 9.207174301147461\n",
      "Iter 2 Loss 333.097412109375\n",
      "Iter 4 Loss 214.38774871826172\n",
      "Iter 6 Loss 218.90077209472656\n",
      "Iter 8 Loss 206.5445327758789\n",
      "Iter 10 Loss 873.3603363037109\n",
      "Average Epoch Loss 369.25816040039064\n",
      "Optimizer in epoch 2 Adam (\n",
      "Parameter Group 0\n",
      "    amsgrad: False\n",
      "    betas: (0.9, 0.999)\n",
      "    capturable: False\n",
      "    differentiable: False\n",
      "    eps: 1e-08\n",
      "    foreach: None\n",
      "    fused: None\n",
      "    initial_lr: 0.0001\n",
      "    lr: 5e-05\n",
      "    maximize: False\n",
      "    weight_decay: 0\n",
      ")\n",
      "EPOCH 2, LOSS train 369.25816040039064 LOSS val 8.002889633178711\n",
      "Iter 2 Loss 337.3166046142578\n",
      "Iter 4 Loss 249.69427490234375\n",
      "Iter 6 Loss 216.126220703125\n",
      "Iter 8 Loss 368.1449890136719\n",
      "Iter 10 Loss 270.14268493652344\n",
      "Average Epoch Loss 288.2849548339844\n",
      "Optimizer in epoch 3 Adam (\n",
      "Parameter Group 0\n",
      "    amsgrad: False\n",
      "    betas: (0.9, 0.999)\n",
      "    capturable: False\n",
      "    differentiable: False\n",
      "    eps: 1e-08\n",
      "    foreach: None\n",
      "    fused: None\n",
      "    initial_lr: 0.0001\n",
      "    lr: 5e-05\n",
      "    maximize: False\n",
      "    weight_decay: 0\n",
      ")\n",
      "EPOCH 3, LOSS train 288.2849548339844 LOSS val 8.390085220336914\n",
      "Iter 2 Loss 317.7250061035156\n",
      "Iter 4 Loss 1682.4395446777344\n",
      "Iter 6 Loss 287.0471649169922\n",
      "Iter 8 Loss 306.8791046142578\n",
      "Iter 10 Loss 272.50498962402344\n",
      "Average Epoch Loss 573.3191619873047\n",
      "Optimizer in epoch 4 Adam (\n",
      "Parameter Group 0\n",
      "    amsgrad: False\n",
      "    betas: (0.9, 0.999)\n",
      "    capturable: False\n",
      "    differentiable: False\n",
      "    eps: 1e-08\n",
      "    foreach: None\n",
      "    fused: None\n",
      "    initial_lr: 0.0001\n",
      "    lr: 2.5e-05\n",
      "    maximize: False\n",
      "    weight_decay: 0\n",
      ")\n",
      "EPOCH 4, LOSS train 573.3191619873047 LOSS val 43.121028900146484\n",
      "Iter 2 Loss 282.1695251464844\n",
      "Iter 4 Loss 206.98443603515625\n",
      "Iter 6 Loss 221.05391693115234\n",
      "Iter 8 Loss 274.1236267089844\n",
      "Iter 10 Loss 1735.3837509155273\n",
      "Average Epoch Loss 543.9430511474609\n",
      "Optimizer in epoch 5 Adam (\n",
      "Parameter Group 0\n",
      "    amsgrad: False\n",
      "    betas: (0.9, 0.999)\n",
      "    capturable: False\n",
      "    differentiable: False\n",
      "    eps: 1e-08\n",
      "    foreach: None\n",
      "    fused: None\n",
      "    initial_lr: 0.0001\n",
      "    lr: 2.5e-05\n",
      "    maximize: False\n",
      "    weight_decay: 0\n",
      ")\n",
      "EPOCH 5, LOSS train 543.9430511474609 LOSS val 68.71772003173828\n",
      "Iter 2 Loss 204.53353881835938\n",
      "Iter 4 Loss 161.08041763305664\n",
      "Iter 6 Loss 142.80144500732422\n",
      "Iter 8 Loss 231.1571807861328\n",
      "Iter 10 Loss 135.81993103027344\n",
      "Average Epoch Loss 175.0785026550293\n",
      "Optimizer in epoch 6 Adam (\n",
      "Parameter Group 0\n",
      "    amsgrad: False\n",
      "    betas: (0.9, 0.999)\n",
      "    capturable: False\n",
      "    differentiable: False\n",
      "    eps: 1e-08\n",
      "    foreach: None\n",
      "    fused: None\n",
      "    initial_lr: 0.0001\n",
      "    lr: 1.25e-05\n",
      "    maximize: False\n",
      "    weight_decay: 0\n",
      ")\n",
      "EPOCH 6, LOSS train 175.0785026550293 LOSS val 59.07616424560547\n",
      "Iter 2 Loss 158.9716033935547\n",
      "Iter 4 Loss 230.62248992919922\n",
      "Iter 6 Loss 113.0344467163086\n",
      "Iter 8 Loss 100.4867172241211\n",
      "Iter 10 Loss 115.79066467285156\n",
      "Average Epoch Loss 143.78118438720702\n",
      "Optimizer in epoch 7 Adam (\n",
      "Parameter Group 0\n",
      "    amsgrad: False\n",
      "    betas: (0.9, 0.999)\n",
      "    capturable: False\n",
      "    differentiable: False\n",
      "    eps: 1e-08\n",
      "    foreach: None\n",
      "    fused: None\n",
      "    initial_lr: 0.0001\n",
      "    lr: 1.25e-05\n",
      "    maximize: False\n",
      "    weight_decay: 0\n",
      ")\n",
      "EPOCH 7, LOSS train 143.78118438720702 LOSS val 86.15296936035156\n",
      "Iter 2 Loss 126.15247344970703\n",
      "Iter 4 Loss 189.53956604003906\n",
      "Iter 6 Loss 128.72824478149414\n",
      "Iter 8 Loss 112.3027400970459\n",
      "Iter 10 Loss 133.84312438964844\n",
      "Average Epoch Loss 138.1132297515869\n",
      "Optimizer in epoch 8 Adam (\n",
      "Parameter Group 0\n",
      "    amsgrad: False\n",
      "    betas: (0.9, 0.999)\n",
      "    capturable: False\n",
      "    differentiable: False\n",
      "    eps: 1e-08\n",
      "    foreach: None\n",
      "    fused: None\n",
      "    initial_lr: 0.0001\n",
      "    lr: 6.25e-06\n",
      "    maximize: False\n",
      "    weight_decay: 0\n",
      ")\n",
      "EPOCH 8, LOSS train 138.1132297515869 LOSS val 98.24000549316406\n",
      "Iter 2 Loss 67.6674690246582\n",
      "Iter 4 Loss 128.41279983520508\n",
      "Iter 6 Loss 126.30110549926758\n",
      "Iter 8 Loss 193.1356201171875\n",
      "Iter 10 Loss 203.18203735351562\n",
      "Average Epoch Loss 143.73980636596679\n",
      "Optimizer in epoch 9 Adam (\n",
      "Parameter Group 0\n",
      "    amsgrad: False\n",
      "    betas: (0.9, 0.999)\n",
      "    capturable: False\n",
      "    differentiable: False\n",
      "    eps: 1e-08\n",
      "    foreach: None\n",
      "    fused: None\n",
      "    initial_lr: 0.0001\n",
      "    lr: 6.25e-06\n",
      "    maximize: False\n",
      "    weight_decay: 0\n",
      ")\n",
      "EPOCH 9, LOSS train 143.73980636596679 LOSS val 81.37956237792969\n"
     ]
    },
    {
     "output_type": "display_data",
     "data": {
      "text/plain": [
       "VBox(children=(Label(value='0.001 MB of 0.016 MB uploaded\\r'), FloatProgress(value=0.07367357851583388, max=1.…"
      ],
      "application/vnd.jupyter.widget-view+json": {
       "version_major": 2,
       "version_minor": 0,
       "model_id": "897d3a655df9470087dc742b4de38b81"
      }
     },
     "metadata": {}
    },
    {
     "output_type": "display_data",
     "data": {
      "text/plain": [
       "<IPython.core.display.HTML object>"
      ],
      "text/html": [
       "<style>\n",
       "    table.wandb td:nth-child(1) { padding: 0 10px; text-align: left ; width: auto;} td:nth-child(2) {text-align: left ; width: 100%}\n",
       "    .wandb-row { display: flex; flex-direction: row; flex-wrap: wrap; justify-content: flex-start; width: 100% }\n",
       "    .wandb-col { display: flex; flex-direction: column; flex-basis: 100%; flex: 1; padding: 10px; }\n",
       "    </style>\n",
       "<div class=\"wandb-row\"><div class=\"wandb-col\"><h3>Run history:</h3><br/><table class=\"wandb\"><tr><td>epoch</td><td>▁▂▃▃▄▅▆▆▇█</td></tr><tr><td>epoch/avg_train_loss</td><td>▁▅▅▄██▃▃▃▃</td></tr><tr><td>epoch/avg_val_loss</td><td>▁▁▁▁▄▆▅▇█▇</td></tr><tr><td>epoch/step</td><td>▁▂▃▃▄▅▆▆▇█</td></tr><tr><td>loss</td><td>▁▅▅▄██▃▃▃▃</td></tr><tr><td>step</td><td>▁▁▁▁▂▂▂▂▂▃▃▃▃▃▃▄▄▄▄▄▅▅▅▅▅▅▆▆▆▆▆▆▇▇▇▇▇███</td></tr><tr><td>train_loss</td><td>▁▁▁▁▁▂▃▃▂▂▂▂▂▂▂▃▂█▂▂▂▂▂▂▂▂▂▂▂▂▁▁▁▂▁▁▁▁▁▂</td></tr></table><br/></div><div class=\"wandb-col\"><h3>Run summary:</h3><br/><table class=\"wandb\"><tr><td>epoch</td><td>9</td></tr><tr><td>epoch/avg_train_loss</td><td>143.73981</td></tr><tr><td>epoch/avg_val_loss</td><td>81.37956</td></tr><tr><td>epoch/step</td><td>9</td></tr><tr><td>loss</td><td>143.73981</td></tr><tr><td>step</td><td>100</td></tr><tr><td>train_loss</td><td>203.18204</td></tr></table><br/></div></div>"
      ]
     },
     "metadata": {}
    },
    {
     "output_type": "display_data",
     "data": {
      "text/plain": [
       "<IPython.core.display.HTML object>"
      ],
      "text/html": [
       " View run <strong style=\"color:#cdcd00\">lyric-sweep-3</strong> at: <a href='https://wandb.ai/joeldev/pytorch-sweeps-demo-tfg/runs/f8ttcym0' target=\"_blank\">https://wandb.ai/joeldev/pytorch-sweeps-demo-tfg/runs/f8ttcym0</a><br/> View project at: <a href='https://wandb.ai/joeldev/pytorch-sweeps-demo-tfg' target=\"_blank\">https://wandb.ai/joeldev/pytorch-sweeps-demo-tfg</a><br/>Synced 5 W&B file(s), 0 media file(s), 0 artifact file(s) and 0 other file(s)"
      ]
     },
     "metadata": {}
    },
    {
     "output_type": "display_data",
     "data": {
      "text/plain": [
       "<IPython.core.display.HTML object>"
      ],
      "text/html": [
       "Find logs at: <code>./wandb/run-20240630_170937-f8ttcym0/logs</code>"
      ]
     },
     "metadata": {}
    },
    {
     "output_type": "display_data",
     "data": {
      "text/plain": [
       "<IPython.core.display.HTML object>"
      ],
      "text/html": [
       "The new W&B backend becomes opt-out in version 0.18.0; try it out with `wandb.require(\"core\")`! See https://wandb.me/wandb-core for more information."
      ]
     },
     "metadata": {}
    }
   ]
  }
 ],
 "metadata": {
  "accelerator": "GPU",
  "colab": {
   "gpuType": "T4",
   "provenance": []
  },
  "kernelspec": {
   "display_name": "Python 3",
   "name": "python3"
  },
  "language_info": {
   "codemirror_mode": {
    "name": "ipython",
    "version": 2
   },
   "file_extension": ".py",
   "mimetype": "text/x-python",
   "name": "python",
   "nbconvert_exporter": "python",
   "pygments_lexer": "ipython2",
   "version": "2.7.6"
  },
  "widgets": {
   "application/vnd.jupyter.widget-state+json": {
    "56c11465f3594c91826637a2a84c9aa2": {
     "model_module": "@jupyter-widgets/controls",
     "model_name": "VBoxModel",
     "model_module_version": "1.5.0",
     "state": {
      "_dom_classes": [],
      "_model_module": "@jupyter-widgets/controls",
      "_model_module_version": "1.5.0",
      "_model_name": "VBoxModel",
      "_view_count": null,
      "_view_module": "@jupyter-widgets/controls",
      "_view_module_version": "1.5.0",
      "_view_name": "VBoxView",
      "box_style": "",
      "children": [
       "IPY_MODEL_bfffa8fb91f8474ba1bec3df2e54bef3",
       "IPY_MODEL_c307006e9f6443f4be9c1f785a693c63"
      ],
      "layout": "IPY_MODEL_80c6c76595804fc1b642876d34ec0812"
     }
    },
    "bfffa8fb91f8474ba1bec3df2e54bef3": {
     "model_module": "@jupyter-widgets/controls",
     "model_name": "LabelModel",
     "model_module_version": "1.5.0",
     "state": {
      "_dom_classes": [],
      "_model_module": "@jupyter-widgets/controls",
      "_model_module_version": "1.5.0",
      "_model_name": "LabelModel",
      "_view_count": null,
      "_view_module": "@jupyter-widgets/controls",
      "_view_module_version": "1.5.0",
      "_view_name": "LabelView",
      "description": "",
      "description_tooltip": null,
      "layout": "IPY_MODEL_c12b5d8746c84e0d9a8f5945ad23fc81",
      "placeholder": "​",
      "style": "IPY_MODEL_e528a12e78f94500ae957a37af9d2926",
      "value": "0.016 MB of 0.016 MB uploaded\r"
     }
    },
    "c307006e9f6443f4be9c1f785a693c63": {
     "model_module": "@jupyter-widgets/controls",
     "model_name": "FloatProgressModel",
     "model_module_version": "1.5.0",
     "state": {
      "_dom_classes": [],
      "_model_module": "@jupyter-widgets/controls",
      "_model_module_version": "1.5.0",
      "_model_name": "FloatProgressModel",
      "_view_count": null,
      "_view_module": "@jupyter-widgets/controls",
      "_view_module_version": "1.5.0",
      "_view_name": "ProgressView",
      "bar_style": "",
      "description": "",
      "description_tooltip": null,
      "layout": "IPY_MODEL_819b87e16f454df5a372ce19256593e0",
      "max": 1,
      "min": 0,
      "orientation": "horizontal",
      "style": "IPY_MODEL_3a697099e9624e3ea109a3c7ae1b3f4b",
      "value": 1
     }
    },
    "80c6c76595804fc1b642876d34ec0812": {
     "model_module": "@jupyter-widgets/base",
     "model_name": "LayoutModel",
     "model_module_version": "1.2.0",
     "state": {
      "_model_module": "@jupyter-widgets/base",
      "_model_module_version": "1.2.0",
      "_model_name": "LayoutModel",
      "_view_count": null,
      "_view_module": "@jupyter-widgets/base",
      "_view_module_version": "1.2.0",
      "_view_name": "LayoutView",
      "align_content": null,
      "align_items": null,
      "align_self": null,
      "border": null,
      "bottom": null,
      "display": null,
      "flex": null,
      "flex_flow": null,
      "grid_area": null,
      "grid_auto_columns": null,
      "grid_auto_flow": null,
      "grid_auto_rows": null,
      "grid_column": null,
      "grid_gap": null,
      "grid_row": null,
      "grid_template_areas": null,
      "grid_template_columns": null,
      "grid_template_rows": null,
      "height": null,
      "justify_content": null,
      "justify_items": null,
      "left": null,
      "margin": null,
      "max_height": null,
      "max_width": null,
      "min_height": null,
      "min_width": null,
      "object_fit": null,
      "object_position": null,
      "order": null,
      "overflow": null,
      "overflow_x": null,
      "overflow_y": null,
      "padding": null,
      "right": null,
      "top": null,
      "visibility": null,
      "width": null
     }
    },
    "c12b5d8746c84e0d9a8f5945ad23fc81": {
     "model_module": "@jupyter-widgets/base",
     "model_name": "LayoutModel",
     "model_module_version": "1.2.0",
     "state": {
      "_model_module": "@jupyter-widgets/base",
      "_model_module_version": "1.2.0",
      "_model_name": "LayoutModel",
      "_view_count": null,
      "_view_module": "@jupyter-widgets/base",
      "_view_module_version": "1.2.0",
      "_view_name": "LayoutView",
      "align_content": null,
      "align_items": null,
      "align_self": null,
      "border": null,
      "bottom": null,
      "display": null,
      "flex": null,
      "flex_flow": null,
      "grid_area": null,
      "grid_auto_columns": null,
      "grid_auto_flow": null,
      "grid_auto_rows": null,
      "grid_column": null,
      "grid_gap": null,
      "grid_row": null,
      "grid_template_areas": null,
      "grid_template_columns": null,
      "grid_template_rows": null,
      "height": null,
      "justify_content": null,
      "justify_items": null,
      "left": null,
      "margin": null,
      "max_height": null,
      "max_width": null,
      "min_height": null,
      "min_width": null,
      "object_fit": null,
      "object_position": null,
      "order": null,
      "overflow": null,
      "overflow_x": null,
      "overflow_y": null,
      "padding": null,
      "right": null,
      "top": null,
      "visibility": null,
      "width": null
     }
    },
    "e528a12e78f94500ae957a37af9d2926": {
     "model_module": "@jupyter-widgets/controls",
     "model_name": "DescriptionStyleModel",
     "model_module_version": "1.5.0",
     "state": {
      "_model_module": "@jupyter-widgets/controls",
      "_model_module_version": "1.5.0",
      "_model_name": "DescriptionStyleModel",
      "_view_count": null,
      "_view_module": "@jupyter-widgets/base",
      "_view_module_version": "1.2.0",
      "_view_name": "StyleView",
      "description_width": ""
     }
    },
    "819b87e16f454df5a372ce19256593e0": {
     "model_module": "@jupyter-widgets/base",
     "model_name": "LayoutModel",
     "model_module_version": "1.2.0",
     "state": {
      "_model_module": "@jupyter-widgets/base",
      "_model_module_version": "1.2.0",
      "_model_name": "LayoutModel",
      "_view_count": null,
      "_view_module": "@jupyter-widgets/base",
      "_view_module_version": "1.2.0",
      "_view_name": "LayoutView",
      "align_content": null,
      "align_items": null,
      "align_self": null,
      "border": null,
      "bottom": null,
      "display": null,
      "flex": null,
      "flex_flow": null,
      "grid_area": null,
      "grid_auto_columns": null,
      "grid_auto_flow": null,
      "grid_auto_rows": null,
      "grid_column": null,
      "grid_gap": null,
      "grid_row": null,
      "grid_template_areas": null,
      "grid_template_columns": null,
      "grid_template_rows": null,
      "height": null,
      "justify_content": null,
      "justify_items": null,
      "left": null,
      "margin": null,
      "max_height": null,
      "max_width": null,
      "min_height": null,
      "min_width": null,
      "object_fit": null,
      "object_position": null,
      "order": null,
      "overflow": null,
      "overflow_x": null,
      "overflow_y": null,
      "padding": null,
      "right": null,
      "top": null,
      "visibility": null,
      "width": null
     }
    },
    "3a697099e9624e3ea109a3c7ae1b3f4b": {
     "model_module": "@jupyter-widgets/controls",
     "model_name": "ProgressStyleModel",
     "model_module_version": "1.5.0",
     "state": {
      "_model_module": "@jupyter-widgets/controls",
      "_model_module_version": "1.5.0",
      "_model_name": "ProgressStyleModel",
      "_view_count": null,
      "_view_module": "@jupyter-widgets/base",
      "_view_module_version": "1.2.0",
      "_view_name": "StyleView",
      "bar_color": null,
      "description_width": ""
     }
    },
    "420d06047fb74200a9aa0918d77f8276": {
     "model_module": "@jupyter-widgets/controls",
     "model_name": "VBoxModel",
     "model_module_version": "1.5.0",
     "state": {
      "_dom_classes": [],
      "_model_module": "@jupyter-widgets/controls",
      "_model_module_version": "1.5.0",
      "_model_name": "VBoxModel",
      "_view_count": null,
      "_view_module": "@jupyter-widgets/controls",
      "_view_module_version": "1.5.0",
      "_view_name": "VBoxView",
      "box_style": "",
      "children": [
       "IPY_MODEL_435d0d652023482ba5975a2405b6b28e",
       "IPY_MODEL_3a339403c61d454ba4f3c301d9848f85"
      ],
      "layout": "IPY_MODEL_5d0ddc9279524937b3bb66209cee5dcf"
     }
    },
    "435d0d652023482ba5975a2405b6b28e": {
     "model_module": "@jupyter-widgets/controls",
     "model_name": "LabelModel",
     "model_module_version": "1.5.0",
     "state": {
      "_dom_classes": [],
      "_model_module": "@jupyter-widgets/controls",
      "_model_module_version": "1.5.0",
      "_model_name": "LabelModel",
      "_view_count": null,
      "_view_module": "@jupyter-widgets/controls",
      "_view_module_version": "1.5.0",
      "_view_name": "LabelView",
      "description": "",
      "description_tooltip": null,
      "layout": "IPY_MODEL_77e63c5c9ca643f4a3fcb81ed7a88dae",
      "placeholder": "​",
      "style": "IPY_MODEL_e19343b91fb549489616347656c35c0a",
      "value": "0.016 MB of 0.016 MB uploaded\r"
     }
    },
    "3a339403c61d454ba4f3c301d9848f85": {
     "model_module": "@jupyter-widgets/controls",
     "model_name": "FloatProgressModel",
     "model_module_version": "1.5.0",
     "state": {
      "_dom_classes": [],
      "_model_module": "@jupyter-widgets/controls",
      "_model_module_version": "1.5.0",
      "_model_name": "FloatProgressModel",
      "_view_count": null,
      "_view_module": "@jupyter-widgets/controls",
      "_view_module_version": "1.5.0",
      "_view_name": "ProgressView",
      "bar_style": "",
      "description": "",
      "description_tooltip": null,
      "layout": "IPY_MODEL_6791b420bc074dde9a517d1c864c38ac",
      "max": 1,
      "min": 0,
      "orientation": "horizontal",
      "style": "IPY_MODEL_a177ba226a6a4159aac9f5dfe8c94bc8",
      "value": 1
     }
    },
    "5d0ddc9279524937b3bb66209cee5dcf": {
     "model_module": "@jupyter-widgets/base",
     "model_name": "LayoutModel",
     "model_module_version": "1.2.0",
     "state": {
      "_model_module": "@jupyter-widgets/base",
      "_model_module_version": "1.2.0",
      "_model_name": "LayoutModel",
      "_view_count": null,
      "_view_module": "@jupyter-widgets/base",
      "_view_module_version": "1.2.0",
      "_view_name": "LayoutView",
      "align_content": null,
      "align_items": null,
      "align_self": null,
      "border": null,
      "bottom": null,
      "display": null,
      "flex": null,
      "flex_flow": null,
      "grid_area": null,
      "grid_auto_columns": null,
      "grid_auto_flow": null,
      "grid_auto_rows": null,
      "grid_column": null,
      "grid_gap": null,
      "grid_row": null,
      "grid_template_areas": null,
      "grid_template_columns": null,
      "grid_template_rows": null,
      "height": null,
      "justify_content": null,
      "justify_items": null,
      "left": null,
      "margin": null,
      "max_height": null,
      "max_width": null,
      "min_height": null,
      "min_width": null,
      "object_fit": null,
      "object_position": null,
      "order": null,
      "overflow": null,
      "overflow_x": null,
      "overflow_y": null,
      "padding": null,
      "right": null,
      "top": null,
      "visibility": null,
      "width": null
     }
    },
    "77e63c5c9ca643f4a3fcb81ed7a88dae": {
     "model_module": "@jupyter-widgets/base",
     "model_name": "LayoutModel",
     "model_module_version": "1.2.0",
     "state": {
      "_model_module": "@jupyter-widgets/base",
      "_model_module_version": "1.2.0",
      "_model_name": "LayoutModel",
      "_view_count": null,
      "_view_module": "@jupyter-widgets/base",
      "_view_module_version": "1.2.0",
      "_view_name": "LayoutView",
      "align_content": null,
      "align_items": null,
      "align_self": null,
      "border": null,
      "bottom": null,
      "display": null,
      "flex": null,
      "flex_flow": null,
      "grid_area": null,
      "grid_auto_columns": null,
      "grid_auto_flow": null,
      "grid_auto_rows": null,
      "grid_column": null,
      "grid_gap": null,
      "grid_row": null,
      "grid_template_areas": null,
      "grid_template_columns": null,
      "grid_template_rows": null,
      "height": null,
      "justify_content": null,
      "justify_items": null,
      "left": null,
      "margin": null,
      "max_height": null,
      "max_width": null,
      "min_height": null,
      "min_width": null,
      "object_fit": null,
      "object_position": null,
      "order": null,
      "overflow": null,
      "overflow_x": null,
      "overflow_y": null,
      "padding": null,
      "right": null,
      "top": null,
      "visibility": null,
      "width": null
     }
    },
    "e19343b91fb549489616347656c35c0a": {
     "model_module": "@jupyter-widgets/controls",
     "model_name": "DescriptionStyleModel",
     "model_module_version": "1.5.0",
     "state": {
      "_model_module": "@jupyter-widgets/controls",
      "_model_module_version": "1.5.0",
      "_model_name": "DescriptionStyleModel",
      "_view_count": null,
      "_view_module": "@jupyter-widgets/base",
      "_view_module_version": "1.2.0",
      "_view_name": "StyleView",
      "description_width": ""
     }
    },
    "6791b420bc074dde9a517d1c864c38ac": {
     "model_module": "@jupyter-widgets/base",
     "model_name": "LayoutModel",
     "model_module_version": "1.2.0",
     "state": {
      "_model_module": "@jupyter-widgets/base",
      "_model_module_version": "1.2.0",
      "_model_name": "LayoutModel",
      "_view_count": null,
      "_view_module": "@jupyter-widgets/base",
      "_view_module_version": "1.2.0",
      "_view_name": "LayoutView",
      "align_content": null,
      "align_items": null,
      "align_self": null,
      "border": null,
      "bottom": null,
      "display": null,
      "flex": null,
      "flex_flow": null,
      "grid_area": null,
      "grid_auto_columns": null,
      "grid_auto_flow": null,
      "grid_auto_rows": null,
      "grid_column": null,
      "grid_gap": null,
      "grid_row": null,
      "grid_template_areas": null,
      "grid_template_columns": null,
      "grid_template_rows": null,
      "height": null,
      "justify_content": null,
      "justify_items": null,
      "left": null,
      "margin": null,
      "max_height": null,
      "max_width": null,
      "min_height": null,
      "min_width": null,
      "object_fit": null,
      "object_position": null,
      "order": null,
      "overflow": null,
      "overflow_x": null,
      "overflow_y": null,
      "padding": null,
      "right": null,
      "top": null,
      "visibility": null,
      "width": null
     }
    },
    "a177ba226a6a4159aac9f5dfe8c94bc8": {
     "model_module": "@jupyter-widgets/controls",
     "model_name": "ProgressStyleModel",
     "model_module_version": "1.5.0",
     "state": {
      "_model_module": "@jupyter-widgets/controls",
      "_model_module_version": "1.5.0",
      "_model_name": "ProgressStyleModel",
      "_view_count": null,
      "_view_module": "@jupyter-widgets/base",
      "_view_module_version": "1.2.0",
      "_view_name": "StyleView",
      "bar_color": null,
      "description_width": ""
     }
    },
    "897d3a655df9470087dc742b4de38b81": {
     "model_module": "@jupyter-widgets/controls",
     "model_name": "VBoxModel",
     "model_module_version": "1.5.0",
     "state": {
      "_dom_classes": [],
      "_model_module": "@jupyter-widgets/controls",
      "_model_module_version": "1.5.0",
      "_model_name": "VBoxModel",
      "_view_count": null,
      "_view_module": "@jupyter-widgets/controls",
      "_view_module_version": "1.5.0",
      "_view_name": "VBoxView",
      "box_style": "",
      "children": [
       "IPY_MODEL_711174555d514f6cb48bc7d5a839eac6",
       "IPY_MODEL_f373df8210a34b9885b31ea7b4291f81"
      ],
      "layout": "IPY_MODEL_239a027b75224ea9b34008d2a7c16d83"
     }
    },
    "711174555d514f6cb48bc7d5a839eac6": {
     "model_module": "@jupyter-widgets/controls",
     "model_name": "LabelModel",
     "model_module_version": "1.5.0",
     "state": {
      "_dom_classes": [],
      "_model_module": "@jupyter-widgets/controls",
      "_model_module_version": "1.5.0",
      "_model_name": "LabelModel",
      "_view_count": null,
      "_view_module": "@jupyter-widgets/controls",
      "_view_module_version": "1.5.0",
      "_view_name": "LabelView",
      "description": "",
      "description_tooltip": null,
      "layout": "IPY_MODEL_03aa3dc34ce64236b10c08de3087c9cd",
      "placeholder": "​",
      "style": "IPY_MODEL_895749c936dc440bb4d1e3432055f09c",
      "value": "0.016 MB of 0.016 MB uploaded\r"
     }
    },
    "f373df8210a34b9885b31ea7b4291f81": {
     "model_module": "@jupyter-widgets/controls",
     "model_name": "FloatProgressModel",
     "model_module_version": "1.5.0",
     "state": {
      "_dom_classes": [],
      "_model_module": "@jupyter-widgets/controls",
      "_model_module_version": "1.5.0",
      "_model_name": "FloatProgressModel",
      "_view_count": null,
      "_view_module": "@jupyter-widgets/controls",
      "_view_module_version": "1.5.0",
      "_view_name": "ProgressView",
      "bar_style": "",
      "description": "",
      "description_tooltip": null,
      "layout": "IPY_MODEL_b387c03fa1804067a92663f24d392ade",
      "max": 1,
      "min": 0,
      "orientation": "horizontal",
      "style": "IPY_MODEL_e3c1c88003ed414e980aa34a353281e2",
      "value": 1
     }
    },
    "239a027b75224ea9b34008d2a7c16d83": {
     "model_module": "@jupyter-widgets/base",
     "model_name": "LayoutModel",
     "model_module_version": "1.2.0",
     "state": {
      "_model_module": "@jupyter-widgets/base",
      "_model_module_version": "1.2.0",
      "_model_name": "LayoutModel",
      "_view_count": null,
      "_view_module": "@jupyter-widgets/base",
      "_view_module_version": "1.2.0",
      "_view_name": "LayoutView",
      "align_content": null,
      "align_items": null,
      "align_self": null,
      "border": null,
      "bottom": null,
      "display": null,
      "flex": null,
      "flex_flow": null,
      "grid_area": null,
      "grid_auto_columns": null,
      "grid_auto_flow": null,
      "grid_auto_rows": null,
      "grid_column": null,
      "grid_gap": null,
      "grid_row": null,
      "grid_template_areas": null,
      "grid_template_columns": null,
      "grid_template_rows": null,
      "height": null,
      "justify_content": null,
      "justify_items": null,
      "left": null,
      "margin": null,
      "max_height": null,
      "max_width": null,
      "min_height": null,
      "min_width": null,
      "object_fit": null,
      "object_position": null,
      "order": null,
      "overflow": null,
      "overflow_x": null,
      "overflow_y": null,
      "padding": null,
      "right": null,
      "top": null,
      "visibility": null,
      "width": null
     }
    },
    "03aa3dc34ce64236b10c08de3087c9cd": {
     "model_module": "@jupyter-widgets/base",
     "model_name": "LayoutModel",
     "model_module_version": "1.2.0",
     "state": {
      "_model_module": "@jupyter-widgets/base",
      "_model_module_version": "1.2.0",
      "_model_name": "LayoutModel",
      "_view_count": null,
      "_view_module": "@jupyter-widgets/base",
      "_view_module_version": "1.2.0",
      "_view_name": "LayoutView",
      "align_content": null,
      "align_items": null,
      "align_self": null,
      "border": null,
      "bottom": null,
      "display": null,
      "flex": null,
      "flex_flow": null,
      "grid_area": null,
      "grid_auto_columns": null,
      "grid_auto_flow": null,
      "grid_auto_rows": null,
      "grid_column": null,
      "grid_gap": null,
      "grid_row": null,
      "grid_template_areas": null,
      "grid_template_columns": null,
      "grid_template_rows": null,
      "height": null,
      "justify_content": null,
      "justify_items": null,
      "left": null,
      "margin": null,
      "max_height": null,
      "max_width": null,
      "min_height": null,
      "min_width": null,
      "object_fit": null,
      "object_position": null,
      "order": null,
      "overflow": null,
      "overflow_x": null,
      "overflow_y": null,
      "padding": null,
      "right": null,
      "top": null,
      "visibility": null,
      "width": null
     }
    },
    "895749c936dc440bb4d1e3432055f09c": {
     "model_module": "@jupyter-widgets/controls",
     "model_name": "DescriptionStyleModel",
     "model_module_version": "1.5.0",
     "state": {
      "_model_module": "@jupyter-widgets/controls",
      "_model_module_version": "1.5.0",
      "_model_name": "DescriptionStyleModel",
      "_view_count": null,
      "_view_module": "@jupyter-widgets/base",
      "_view_module_version": "1.2.0",
      "_view_name": "StyleView",
      "description_width": ""
     }
    },
    "b387c03fa1804067a92663f24d392ade": {
     "model_module": "@jupyter-widgets/base",
     "model_name": "LayoutModel",
     "model_module_version": "1.2.0",
     "state": {
      "_model_module": "@jupyter-widgets/base",
      "_model_module_version": "1.2.0",
      "_model_name": "LayoutModel",
      "_view_count": null,
      "_view_module": "@jupyter-widgets/base",
      "_view_module_version": "1.2.0",
      "_view_name": "LayoutView",
      "align_content": null,
      "align_items": null,
      "align_self": null,
      "border": null,
      "bottom": null,
      "display": null,
      "flex": null,
      "flex_flow": null,
      "grid_area": null,
      "grid_auto_columns": null,
      "grid_auto_flow": null,
      "grid_auto_rows": null,
      "grid_column": null,
      "grid_gap": null,
      "grid_row": null,
      "grid_template_areas": null,
      "grid_template_columns": null,
      "grid_template_rows": null,
      "height": null,
      "justify_content": null,
      "justify_items": null,
      "left": null,
      "margin": null,
      "max_height": null,
      "max_width": null,
      "min_height": null,
      "min_width": null,
      "object_fit": null,
      "object_position": null,
      "order": null,
      "overflow": null,
      "overflow_x": null,
      "overflow_y": null,
      "padding": null,
      "right": null,
      "top": null,
      "visibility": null,
      "width": null
     }
    },
    "e3c1c88003ed414e980aa34a353281e2": {
     "model_module": "@jupyter-widgets/controls",
     "model_name": "ProgressStyleModel",
     "model_module_version": "1.5.0",
     "state": {
      "_model_module": "@jupyter-widgets/controls",
      "_model_module_version": "1.5.0",
      "_model_name": "ProgressStyleModel",
      "_view_count": null,
      "_view_module": "@jupyter-widgets/base",
      "_view_module_version": "1.2.0",
      "_view_name": "StyleView",
      "bar_color": null,
      "description_width": ""
     }
    }
   }
  }
 },
 "nbformat": 4,
 "nbformat_minor": 0
}
