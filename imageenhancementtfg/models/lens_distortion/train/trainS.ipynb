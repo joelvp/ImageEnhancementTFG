{
 "cells": [
  {
   "cell_type": "markdown",
   "metadata": {
    "id": "wVVsX9x_xPxk"
   },
   "source": "# Lens Distortion Model Training"
  },
  {
   "cell_type": "markdown",
   "metadata": {
    "id": "V_Gy1o00x3Tk"
   },
   "source": [
    "##### **Load libraries and Cuda**\n",
    "\n"
   ]
  },
  {
   "cell_type": "code",
   "metadata": {
    "id": "HGme9p9IWxsF",
    "ExecuteTime": {
     "end_time": "2024-06-26T14:24:31.833474Z",
     "start_time": "2024-06-26T14:24:09.214840Z"
    }
   },
   "source": [
    "import torch\n",
    "import os\n",
    "import torch.nn as nn\n",
    "from torch.optim.lr_scheduler import StepLR\n",
    "import math\n",
    "\n",
    "from typing import Tuple\n",
    "\n",
    "from dataloaderNetS import get_loader\n",
    "from modelNetS import EncoderNet, ModelNet, EPELoss\n",
    "from models.utils import load_config\n",
    "\n",
    "config = load_config('C:/Users/JoelVP/Desktop/UPV/ImageEnhancementTFG/imageenhancementtfg/data/config.ini')"
   ],
   "outputs": [
    {
     "name": "stderr",
     "output_type": "stream",
     "text": [
      "C:\\Users\\JoelVP\\anaconda3\\envs\\ImageEnhancementTFG\\lib\\site-packages\\tqdm\\auto.py:21: TqdmWarning: IProgress not found. Please update jupyter and ipywidgets. See https://ipywidgets.readthedocs.io/en/stable/user_install.html\n",
      "  from .autonotebook import tqdm as notebook_tqdm\n"
     ]
    }
   ],
   "execution_count": 1
  },
  {
   "cell_type": "code",
   "metadata": {
    "colab": {
     "base_uri": "https://localhost:8080/"
    },
    "id": "dlQlcbLRyAyw",
    "outputId": "c6c9fa47-aeea-425a-acef-f5a605308953",
    "ExecuteTime": {
     "end_time": "2024-06-26T14:24:31.908505Z",
     "start_time": "2024-06-26T14:24:31.843285Z"
    }
   },
   "source": [
    "if torch.cuda.is_available():\n",
    "    gpu_info = torch.cuda.get_device_properties(0)\n",
    "    print(f\"GPU Name: {gpu_info.name}\")\n",
    "    print(f\"GPU Memory: {gpu_info.total_memory / 1024**3:.2f} GB\")\n",
    "else:\n",
    "    print(\"No GPU available\")"
   ],
   "outputs": [
    {
     "name": "stdout",
     "output_type": "stream",
     "text": [
      "GPU Name: NVIDIA GeForce GTX 1050 with Max-Q Design\n",
      "GPU Memory: 4.00 GB\n"
     ]
    }
   ],
   "execution_count": 2
  },
  {
   "cell_type": "markdown",
   "metadata": {
    "id": "xqBhu9v70oI6"
   },
   "source": [
    "##### **Define Params**"
   ]
  },
  {
   "cell_type": "code",
   "metadata": {
    "id": "gQzNus1zZ83I",
    "ExecuteTime": {
     "end_time": "2024-06-26T14:24:31.924625Z",
     "start_time": "2024-06-26T14:24:31.912510Z"
    }
   },
   "source": [
    "# Define los valores de los argumentos directamente en Colab\n",
    "dataset_type = 0\n",
    "batch_size = 32 # Cambiar tambien en modelNetS\n",
    "epochs = 50\n",
    "lr = 0.0001\n",
    "dataset_size = 256\n",
    "checkpoint_interval = 5  # Guardar un checkpoint cada 5 epochs\n",
    "checkpoint_dir = config['lens_distortion']['checkpoints_dir']\n",
    "dataset_dir = config['lens_distortion']['dataset_dir']"
   ],
   "outputs": [],
   "execution_count": 3
  },
  {
   "cell_type": "markdown",
   "metadata": {
    "id": "cJyDPL8i0yNH"
   },
   "source": [
    "# **AUX FUNCTION**"
   ]
  },
  {
   "cell_type": "code",
   "metadata": {
    "id": "5AtPWW4s9sLj",
    "ExecuteTime": {
     "end_time": "2024-06-26T14:24:31.971687Z",
     "start_time": "2024-06-26T14:24:31.927618Z"
    }
   },
   "source": [
    "def model_paths(distortion_type, lr, image_size) -> Tuple[str,str]:\n",
    "\n",
    "  lr_name = str(lr).replace('.','_')\n",
    "\n",
    "  model1_path = f'./models/model1_{distortion_type[0]}_{lr_name}_{image_size}.pth'\n",
    "  model2_path = f'./models/model2_{distortion_type[0]}_{lr_name}_{image_size}.pth'\n",
    "\n",
    "  return model1_path, model2_path\n",
    "\n",
    "\n",
    "def load_weights(model, path):\n",
    "    model = model.cuda() if torch.cuda.is_available() else model\n",
    "    model.load_state_dict(torch.load(path))\n",
    "    return model.eval()\n",
    "\n",
    "\n",
    "def save_checkpoint(epoch, model_1, model_2, optimizer, loss, checkpoint_dir):\n",
    "    os.makedirs(checkpoint_dir, exist_ok=True)\n",
    "\n",
    "    last_checkpoint_path = os.path.join(checkpoint_dir, f'last_checkpoint_epoch_{epoch}.pth')\n",
    "\n",
    "    # Eliminar el last_model anterior si existe\n",
    "    for file in os.listdir(checkpoint_dir):\n",
    "        if file.startswith('last_checkpoint_epoch_') and file != f'last_checkpoint_epoch_{epoch}.pth':\n",
    "            os.remove(os.path.join(checkpoint_dir, file))\n",
    "\n",
    "    # Guardar last_checkpoint_{epoch}\n",
    "    torch.save({\n",
    "        'epoch': epoch,\n",
    "        'model_1_state_dict': model_1.state_dict(),\n",
    "        'model_2_state_dict': model_2.state_dict(),\n",
    "        'optimizer_state_dict': optimizer.state_dict(),\n",
    "        'loss': loss\n",
    "    }, last_checkpoint_path)\n",
    "    print(f'Last checkpoint saved at {last_checkpoint_path}')\n",
    "\n",
    "\n",
    "def save_best_checkpoint(epoch, model_1, model_2, optimizer, loss, checkpoint_dir):\n",
    "    os.makedirs(checkpoint_dir, exist_ok=True)\n",
    "\n",
    "    best_checkpoint_path = os.path.join(checkpoint_dir, 'best_checkpoint.pth')\n",
    "\n",
    "    # Guardar best_checkpoint\n",
    "    torch.save({\n",
    "        'epoch': epoch,\n",
    "        'model_1_state_dict': model_1.state_dict(),\n",
    "        'model_2_state_dict': model_2.state_dict(),\n",
    "        'optimizer_state_dict': optimizer.state_dict(),\n",
    "        'loss': loss\n",
    "    }, best_checkpoint_path)\n",
    "    print(f'Best checkpoint saved in epoch {epoch}, LOSS {loss}')\n",
    "\n",
    "\n",
    "def load_checkpoint(checkpoint_path, model_1, model_2, optimizer):\n",
    "    if os.path.exists(checkpoint_path):\n",
    "        checkpoint = torch.load(checkpoint_path)\n",
    "        model_1.load_state_dict(checkpoint['model_1_state_dict'])\n",
    "        model_2.load_state_dict(checkpoint['model_2_state_dict'])\n",
    "        optimizer.load_state_dict(checkpoint['optimizer_state_dict'])\n",
    "        epoch = checkpoint['epoch']\n",
    "        loss = checkpoint['loss']\n",
    "        print(f\"Checkpoint cargado. Última epoch={epoch}, pérdida={loss}\")\n",
    "        return model_1, model_2, optimizer, epoch, loss\n",
    "    else:\n",
    "        raise FileNotFoundError(f\"No se encontró el archivo de checkpoint en {checkpoint_path}\")\n",
    "\n",
    "\n",
    "def get_best_loss(best_checkpoint_path):\n",
    "    if os.path.exists(best_checkpoint_path):\n",
    "        best_checkpoint = torch.load(best_checkpoint_path)\n",
    "        best_loss = best_checkpoint['loss']\n",
    "        print(f\"Best loss encontrado: {best_loss}\")\n",
    "        return best_loss\n",
    "    else:\n",
    "        raise FileNotFoundError(f\"No se encontró el archivo de best_checkpoint en {best_checkpoint_path}\")\n",
    "\n",
    "\n",
    "def select_model_path(checkpoint_dir, best_or_last):\n",
    "    if best_or_last == \"best\":\n",
    "        best_checkpoint_path = os.path.join(checkpoint_dir, 'best_checkpoint.pth')\n",
    "        if os.path.exists(best_checkpoint_path):\n",
    "            print(\"Best checkpoint in \", best_checkpoint_path)\n",
    "            return best_checkpoint_path\n",
    "        else:\n",
    "            raise FileNotFoundError(f\"No se encontró el archivo 'best_checkpoint.pth' en {checkpoint_dir}.\")\n",
    "    else:\n",
    "        # Encontrar el último last_checkpoint basado en el número de epoch\n",
    "        last_checkpoint_paths = [f for f in os.listdir(checkpoint_dir) if f.startswith('last_checkpoint_') and f.endswith('.pth')]\n",
    "\n",
    "        if last_checkpoint_paths:\n",
    "            last_checkpoint_paths.sort()  # Ordenar para obtener el último checkpoint basado en el número de epoch\n",
    "            last_checkpoint_path = os.path.join(checkpoint_dir, last_checkpoint_paths[-1])\n",
    "            print(\"Last checkpoint in \", last_checkpoint_path)\n",
    "            return last_checkpoint_path\n",
    "        else:\n",
    "            raise FileNotFoundError(f\"No se encontró ningún last_checkpoint en {checkpoint_dir}.\")\n",
    "\n",
    "\n",
    "def save_model(checkpoint_path, model1_path, model2_path):\n",
    "    checkpoint = torch.load(checkpoint_path)\n",
    "    # Obtener los estados de los modelos\n",
    "    model_1_state_dict = checkpoint['model_1_state_dict']\n",
    "    model_2_state_dict = checkpoint['model_2_state_dict']\n",
    "\n",
    "    # Guardar model_1 en un archivo independiente\n",
    "    torch.save(model_1_state_dict, model1_path)\n",
    "\n",
    "    # Guardar model_2 en un archivo independiente\n",
    "    torch.save(model_2_state_dict, model2_path)\n",
    "\n"
   ],
   "outputs": [],
   "execution_count": 4
  },
  {
   "cell_type": "markdown",
   "metadata": {
    "id": "55ZC-abL019d"
   },
   "source": [
    "##### **Prepare models for training**"
   ]
  },
  {
   "cell_type": "code",
   "metadata": {
    "colab": {
     "base_uri": "https://localhost:8080/"
    },
    "id": "YO9r1nuh9NFe",
    "outputId": "e0b4e02e-21c5-4c3f-9a85-b1fc06f71b3c",
    "ExecuteTime": {
     "end_time": "2024-06-26T14:24:40.819609Z",
     "start_time": "2024-06-26T14:24:31.975692Z"
    }
   },
   "source": [
    "if(dataset_type == 0):\n",
    "    distortion_type = ['barrel']\n",
    "elif(dataset_type == 1):\n",
    "    distortion_type = ['pincushion']\n",
    "elif(dataset_type == 2):\n",
    "    distortion_type = ['rotation']\n",
    "elif(dataset_type == 3):\n",
    "    distortion_type = ['shear']\n",
    "elif(dataset_type == 4):\n",
    "    distortion_type = ['projective']\n",
    "elif(dataset_type == 5):\n",
    "    distortion_type = ['wave']\n",
    "\n",
    "use_GPU = torch.cuda.is_available()\n",
    "\n",
    "train_loader = get_loader(distortedImgDir = f'{dataset_dir}/train_distorted',\n",
    "                  flowDir   = f'{dataset_dir}/train_flow',\n",
    "                  batch_size = batch_size,\n",
    "                  distortion_type = distortion_type)\n",
    "\n",
    "val_loader = get_loader(distortedImgDir = f'{dataset_dir}/test_distorted',\n",
    "                  flowDir   = f'{dataset_dir}/test_flow',\n",
    "                  batch_size = batch_size,\n",
    "                  distortion_type = distortion_type)\n",
    "\n",
    "model1_path, model2_path = model_paths(distortion_type, lr, dataset_size)\n",
    "\n",
    "model_1 = EncoderNet([1,1,1,1,2])\n",
    "model_2 = ModelNet(distortion_type[0], batch_size)\n",
    "criterion = EPELoss()\n",
    "\n",
    "print('dataset type:',distortion_type)\n",
    "print('batch size:', batch_size)\n",
    "print('epochs:', epochs)\n",
    "print('lr:', lr)\n",
    "print('train_loader',len(train_loader))\n",
    "print('val_loader', len(val_loader))\n",
    "print('path model 1', model1_path)\n",
    "print('path model 2', model2_path)\n",
    "\n",
    "\n",
    "if torch.cuda.device_count() > 1:\n",
    "    print(\"Let's use\", torch.cuda.device_count(), \"GPUs!\")\n",
    "    model_1 = nn.DataParallel(model_1)\n",
    "\n",
    "if torch.cuda.is_available():\n",
    "    model_1 = model_1.cuda()\n",
    "    model_2 = model_2.cuda()\n",
    "    criterion = criterion.cuda()\n",
    "\n",
    "optimizer = torch.optim.Adam(model_1.parameters(), lr=lr)\n",
    "scheduler = StepLR(optimizer, step_size=2, gamma=0.5)\n",
    "n_steps_per_epoch = math.ceil(len(train_loader) / batch_size)"
   ],
   "outputs": [
    {
     "name": "stdout",
     "output_type": "stream",
     "text": [
      "dataset type: ['barrel']\n",
      "batch size: 32\n",
      "epochs: 10\n",
      "lr: 0.0001\n",
      "train_loader 625\n",
      "val_loader 62\n",
      "path model 1 ./models/model1_barrel_0_0001_256.pth\n",
      "path model 2 ./models/model2_barrel_0_0001_256.pth\n"
     ]
    }
   ],
   "execution_count": 5
  },
  {
   "cell_type": "markdown",
   "metadata": {
    "id": "a98kDjbc9rC1"
   },
   "source": [
    "## **TRAIN**"
   ]
  },
  {
   "cell_type": "markdown",
   "metadata": {
    "id": "UKCMt_TDcr9O"
   },
   "source": [
    "**Checkpoint**"
   ]
  },
  {
   "cell_type": "code",
   "execution_count": 7,
   "metadata": {
    "colab": {
     "base_uri": "https://localhost:8080/"
    },
    "id": "pSWrDMXrYw_T",
    "outputId": "a59f0359-aacb-421a-e48d-c230fe5525a3"
   },
   "outputs": [
    {
     "name": "stdout",
     "output_type": "stream",
     "text": [
      "Starting new training\n"
     ]
    }
   ],
   "source": [
    "# Arrancar con el checkpoint si se ha interrumpido el entrenamiento\n",
    "start_with_checkpoint = False\n",
    "start_epoch = 0\n",
    "best_loss = float('inf')\n",
    "\n",
    "if start_with_checkpoint:\n",
    "    last_checkpoint_path = select_model_path(checkpoint_dir, 'last')\n",
    "    best_checkpoint_path = select_model_path(checkpoint_dir, 'best')\n",
    "\n",
    "    best_loss = get_best_loss(best_checkpoint_path)\n",
    "    model_1, model_2, optimizer, start_epoch, best_loss = load_checkpoint(last_checkpoint_path, model_1, model_2, optimizer)\n",
    "\n",
    "    print(f'Resumiendo el entrenamiento desde el epoch {start_epoch}')\n",
    "\n",
    "else:\n",
    "  try:\n",
    "      last_checkpoint_path = select_model_path(checkpoint_dir, 'last')\n",
    "      best_checkpoint_path = select_model_path(checkpoint_dir, 'best')\n",
    "\n",
    "      os.remove(last_checkpoint_path)\n",
    "      os.remove(best_checkpoint_path)\n",
    "      print(f'Starting new training, and deleting old checkpoints')\n",
    "  except FileNotFoundError:\n",
    "      print(f'Starting new training')"
   ]
  },
  {
   "cell_type": "code",
   "execution_count": null,
   "metadata": {
    "colab": {
     "base_uri": "https://localhost:8080/"
    },
    "id": "I0NMPXtksxpz",
    "outputId": "1f00f416-641b-478c-ae19-ddf5d6064d22"
   },
   "outputs": [],
   "source": [
    "# Ejecutar en caso de error con wandb.login()\n",
    "!pip install wandb -qU"
   ]
  },
  {
   "cell_type": "code",
   "execution_count": null,
   "metadata": {
    "colab": {
     "base_uri": "https://localhost:8080/"
    },
    "id": "omivXkXi-j5n",
    "outputId": "f7efd820-37e8-47c6-e0d0-5236191f4d0f"
   },
   "outputs": [],
   "source": [
    "import wandb\n",
    "wandb.login(key = config['api_keys']['w&b'])"
   ]
  },
  {
   "cell_type": "code",
   "execution_count": null,
   "metadata": {
    "colab": {
     "base_uri": "https://localhost:8080/",
     "height": 437,
     "referenced_widgets": [
      "c7849f0b119548d2b6ad5076f7cb08bd",
      "4326a8ac886c4814977b0367ae250227",
      "ed54243efb5f4b118efba013e10db020",
      "d9ac2fee645e4f8882abb735d42a5b0f",
      "db8bd897d9834894be0f41b0517ce83e",
      "a57cc0c9936b44e1a48f9a7dd25c3dc9",
      "19b35fd08adf460cac77fa3b8e01f2e3",
      "bbeac97f7dbf4bcb84bfaaf993b2232b"
     ]
    },
    "id": "0JYTF4sQxsXn",
    "outputId": "8f50cb7d-0dc2-4557-ee3c-bbafcf62129c"
   },
   "outputs": [],
   "source": [
    "# Log in to your W&B account\n",
    "wandb.init(\n",
    "      project=\"tfg\",\n",
    "      name=f\"Train_lr_{lr}_bs_{batch_size}\",\n",
    "      id=f\"id_train_lr_{lr}_bs_{batch_size}\",\n",
    "      resume=\"allow\",\n",
    "      config={\n",
    "        \"image_size\": dataset_size,\n",
    "        \"learning rate\" : lr,\n",
    "        \"batch size\": batch_size,\n",
    "        \"train loader\": len(train_loader),\n",
    "        \"val loader\" : len(val_loader),\n",
    "        \"epochs\" : epochs\n",
    "    }\n",
    "      )\n",
    "\n",
    "wandb.define_metric(\"epoch/step\")\n",
    "wandb.define_metric(\"epoch/*\", step_metric=\"epoch/step\")"
   ]
  },
  {
   "cell_type": "markdown",
   "metadata": {
    "id": "T4i5FVSGcu5y"
   },
   "source": [
    "**Start training**"
   ]
  },
  {
   "cell_type": "code",
   "execution_count": null,
   "metadata": {
    "colab": {
     "base_uri": "https://localhost:8080/",
     "height": 495
    },
    "id": "S9Dt1vdz9mpf",
    "outputId": "395a58d0-c662-422d-d686-a49619b00f5d"
   },
   "outputs": [],
   "source": [
    "# Definir la función para entrenar una época\n",
    "def train_one_epoch(epoch):\n",
    "\n",
    "    cumu_loss = 0.0\n",
    "    batch_loss = 0.0\n",
    "\n",
    "    for i, (disimgs, disx, disy) in enumerate(train_loader):\n",
    "        if torch.cuda.is_available():\n",
    "            disimgs = disimgs.cuda()\n",
    "            disx = disx.cuda()\n",
    "            disy = disy.cuda()\n",
    "\n",
    "        optimizer.zero_grad()\n",
    "\n",
    "        labels_x = disx\n",
    "        labels_y = disy\n",
    "\n",
    "        flow_truth = torch.cat([labels_x, labels_y], dim=1)\n",
    "\n",
    "        # Forward pass\n",
    "        flow_output_1 = model_1(disimgs)\n",
    "        flow_output = model_2(flow_output_1)\n",
    "\n",
    "        # Calculate loss\n",
    "        loss = criterion(flow_output, flow_truth)\n",
    "\n",
    "        # Backward pass and optimization step\n",
    "        loss.backward()\n",
    "        optimizer.step()\n",
    "\n",
    "        # Accumulate total loss\n",
    "        cumu_loss += loss.item()\n",
    "        batch_loss += loss.item()\n",
    "\n",
    "        if (i + 1) % n_steps_per_epoch == 0:\n",
    "            last_loss = batch_loss / n_steps_per_epoch\n",
    "            # step = epoch * len(train_loader) + i - 1\n",
    "            print(f\"Iter {i + 1} Loss {last_loss}\")\n",
    "            wandb.log({\"train_loss\": last_loss, \"step\": epoch * len(train_loader) + i + 1})\n",
    "            batch_loss = 0.0  # Reset total loss after logging\n",
    "            \n",
    "    # Calculate average loss for the epoch\n",
    "    average_loss = cumu_loss / len(train_loader)\n",
    "    \n",
    "    print(\"Average Epoch Loss\",average_loss)\n",
    "\n",
    "    return average_loss\n"
   ]
  },
  {
   "metadata": {},
   "cell_type": "code",
   "outputs": [],
   "execution_count": null,
   "source": [
    "for epoch in range(epochs):\n",
    "    print(\"\\nEpoch\", epoch)\n",
    "    \n",
    "    model_1.train()\n",
    "    model_2.train()\n",
    "\n",
    "    # Entrenamiento de una época\n",
    "    avg_train_loss = train_one_epoch(epoch)\n",
    "    \n",
    "    running_val_loss = 0.0\n",
    "    # Set the model to evaluation mode, disabling dropout and using population\n",
    "    # statistics for batch normalization.\n",
    "    model_1.eval()\n",
    "    model_2.eval()\n",
    "    \n",
    "    # Disable gradient computation and reduce memory consumption.\n",
    "    with torch.no_grad():\n",
    "        for i, (disimgs, disx, disy) in enumerate(val_loader):\n",
    "            if use_GPU:\n",
    "                torch.cuda.empty_cache()\n",
    "                disimgs = disimgs.cuda()\n",
    "                disx = disx.cuda()\n",
    "                disy = disy.cuda()\n",
    "        \n",
    "            labels_x = disx\n",
    "            labels_y = disy\n",
    "        \n",
    "            flow_truth = torch.cat([labels_x, labels_y], dim=1)\n",
    "        \n",
    "            # In one step\n",
    "            flow_output = model_2(model_1(disimgs))\n",
    "        \n",
    "            val_loss = criterion(flow_output, flow_truth)\n",
    "            running_val_loss += val_loss\n",
    "            \n",
    "    avg_val_loss = running_val_loss / len(val_loader)\n",
    "    print(f'EPOCH {epoch}, LOSS train {avg_train_loss} LOSS val {avg_val_loss}')\n",
    "    wandb.log({\n",
    "    \"epoch/avg_train_loss\": avg_train_loss,\n",
    "    \"epoch/avg_val_loss\": avg_val_loss,\n",
    "    \"epoch/step\":epoch})\n",
    "\n",
    "\n",
    "    # Guardar checkpoint cada checkpoint_interval epochs\n",
    "    if (epoch + 1) % checkpoint_interval == 0:\n",
    "        save_checkpoint(epoch + 1, model_1, model_2, optimizer, avg_train_loss, checkpoint_dir)\n",
    "\n",
    "\n",
    "    # Guardar el mejor checkpoint\n",
    "    if avg_train_loss < best_loss:\n",
    "        best_loss = avg_train_loss\n",
    "        save_best_checkpoint(epoch, model_1, model_2, optimizer, avg_train_loss, checkpoint_dir)\n",
    "\n",
    "    scheduler.step()\n",
    "\n",
    "# Finaliza la sesión de W&B al finalizar el entrenamiento\n",
    "wandb.finish()"
   ]
  },
  {
   "cell_type": "markdown",
   "metadata": {
    "id": "xT8FCUQzD0ez"
   },
   "source": [
    "## **SAVE BEST/LAST MODEL**"
   ]
  },
  {
   "cell_type": "code",
   "execution_count": null,
   "metadata": {
    "colab": {
     "base_uri": "https://localhost:8080/"
    },
    "id": "Wuk8TTwWDz0C",
    "outputId": "2025b1ea-87ed-44f2-a4d0-b400d5284ba7"
   },
   "outputs": [
    {
     "name": "stdout",
     "output_type": "stream",
     "text": [
      "Saving in models the best checkpoint\n",
      "./checkpoints/best_checkpoint.pth\n"
     ]
    }
   ],
   "source": [
    "# Save the final model\n",
    "final_model_type = \"best\"  # \"last\" or \"best\"\n",
    "checkpoint_path = select_model_path(checkpoint_dir, final_model_type)\n",
    "save_model(checkpoint_path, model1_path, model2_path)"
   ]
  }
 ],
 "metadata": {
  "accelerator": "GPU",
  "colab": {
   "gpuType": "T4",
   "provenance": []
  },
  "kernelspec": {
   "display_name": "Python 3 (ipykernel)",
   "language": "python",
   "name": "python3"
  },
  "language_info": {
   "codemirror_mode": {
    "name": "ipython",
    "version": 3
   },
   "file_extension": ".py",
   "mimetype": "text/x-python",
   "name": "python",
   "nbconvert_exporter": "python",
   "pygments_lexer": "ipython3",
   "version": "3.10.14"
  },
  "widgets": {
   "application/vnd.jupyter.widget-state+json": {
    "17a219d149174a85be76aba2807e99ad": {
     "model_module": "@jupyter-widgets/base",
     "model_module_version": "1.2.0",
     "model_name": "LayoutModel",
     "state": {
      "_model_module": "@jupyter-widgets/base",
      "_model_module_version": "1.2.0",
      "_model_name": "LayoutModel",
      "_view_count": null,
      "_view_module": "@jupyter-widgets/base",
      "_view_module_version": "1.2.0",
      "_view_name": "LayoutView",
      "align_content": null,
      "align_items": null,
      "align_self": null,
      "border": null,
      "bottom": null,
      "display": null,
      "flex": null,
      "flex_flow": null,
      "grid_area": null,
      "grid_auto_columns": null,
      "grid_auto_flow": null,
      "grid_auto_rows": null,
      "grid_column": null,
      "grid_gap": null,
      "grid_row": null,
      "grid_template_areas": null,
      "grid_template_columns": null,
      "grid_template_rows": null,
      "height": null,
      "justify_content": null,
      "justify_items": null,
      "left": null,
      "margin": null,
      "max_height": null,
      "max_width": null,
      "min_height": null,
      "min_width": null,
      "object_fit": null,
      "object_position": null,
      "order": null,
      "overflow": null,
      "overflow_x": null,
      "overflow_y": null,
      "padding": null,
      "right": null,
      "top": null,
      "visibility": null,
      "width": null
     }
    },
    "19b35fd08adf460cac77fa3b8e01f2e3": {
     "model_module": "@jupyter-widgets/base",
     "model_module_version": "1.2.0",
     "model_name": "LayoutModel",
     "state": {
      "_model_module": "@jupyter-widgets/base",
      "_model_module_version": "1.2.0",
      "_model_name": "LayoutModel",
      "_view_count": null,
      "_view_module": "@jupyter-widgets/base",
      "_view_module_version": "1.2.0",
      "_view_name": "LayoutView",
      "align_content": null,
      "align_items": null,
      "align_self": null,
      "border": null,
      "bottom": null,
      "display": null,
      "flex": null,
      "flex_flow": null,
      "grid_area": null,
      "grid_auto_columns": null,
      "grid_auto_flow": null,
      "grid_auto_rows": null,
      "grid_column": null,
      "grid_gap": null,
      "grid_row": null,
      "grid_template_areas": null,
      "grid_template_columns": null,
      "grid_template_rows": null,
      "height": null,
      "justify_content": null,
      "justify_items": null,
      "left": null,
      "margin": null,
      "max_height": null,
      "max_width": null,
      "min_height": null,
      "min_width": null,
      "object_fit": null,
      "object_position": null,
      "order": null,
      "overflow": null,
      "overflow_x": null,
      "overflow_y": null,
      "padding": null,
      "right": null,
      "top": null,
      "visibility": null,
      "width": null
     }
    },
    "2415004567644574b3b435b1a8b6c0ed": {
     "model_module": "@jupyter-widgets/controls",
     "model_module_version": "1.5.0",
     "model_name": "FloatProgressModel",
     "state": {
      "_dom_classes": [],
      "_model_module": "@jupyter-widgets/controls",
      "_model_module_version": "1.5.0",
      "_model_name": "FloatProgressModel",
      "_view_count": null,
      "_view_module": "@jupyter-widgets/controls",
      "_view_module_version": "1.5.0",
      "_view_name": "ProgressView",
      "bar_style": "",
      "description": "",
      "description_tooltip": null,
      "layout": "IPY_MODEL_b3b170fffb9f4c518bbb3f97baa31907",
      "max": 1,
      "min": 0,
      "orientation": "horizontal",
      "style": "IPY_MODEL_d5ae1b44a10042adb8f3c02652ca8114",
      "value": 1
     }
    },
    "3e1a9ab88ae64d1884c7b0ba0cde0c46": {
     "model_module": "@jupyter-widgets/controls",
     "model_module_version": "1.5.0",
     "model_name": "LabelModel",
     "state": {
      "_dom_classes": [],
      "_model_module": "@jupyter-widgets/controls",
      "_model_module_version": "1.5.0",
      "_model_name": "LabelModel",
      "_view_count": null,
      "_view_module": "@jupyter-widgets/controls",
      "_view_module_version": "1.5.0",
      "_view_name": "LabelView",
      "description": "",
      "description_tooltip": null,
      "layout": "IPY_MODEL_88d8b3b9524049728aed83194dc967d3",
      "placeholder": "​",
      "style": "IPY_MODEL_5fcbee27aabd4ee7a595799545f8b2dd",
      "value": "0.012 MB of 0.012 MB uploaded\r"
     }
    },
    "4326a8ac886c4814977b0367ae250227": {
     "model_module": "@jupyter-widgets/controls",
     "model_module_version": "1.5.0",
     "model_name": "LabelModel",
     "state": {
      "_dom_classes": [],
      "_model_module": "@jupyter-widgets/controls",
      "_model_module_version": "1.5.0",
      "_model_name": "LabelModel",
      "_view_count": null,
      "_view_module": "@jupyter-widgets/controls",
      "_view_module_version": "1.5.0",
      "_view_name": "LabelView",
      "description": "",
      "description_tooltip": null,
      "layout": "IPY_MODEL_db8bd897d9834894be0f41b0517ce83e",
      "placeholder": "​",
      "style": "IPY_MODEL_a57cc0c9936b44e1a48f9a7dd25c3dc9",
      "value": "Waiting for wandb.init()...\r"
     }
    },
    "5fcbee27aabd4ee7a595799545f8b2dd": {
     "model_module": "@jupyter-widgets/controls",
     "model_module_version": "1.5.0",
     "model_name": "DescriptionStyleModel",
     "state": {
      "_model_module": "@jupyter-widgets/controls",
      "_model_module_version": "1.5.0",
      "_model_name": "DescriptionStyleModel",
      "_view_count": null,
      "_view_module": "@jupyter-widgets/base",
      "_view_module_version": "1.2.0",
      "_view_name": "StyleView",
      "description_width": ""
     }
    },
    "88d8b3b9524049728aed83194dc967d3": {
     "model_module": "@jupyter-widgets/base",
     "model_module_version": "1.2.0",
     "model_name": "LayoutModel",
     "state": {
      "_model_module": "@jupyter-widgets/base",
      "_model_module_version": "1.2.0",
      "_model_name": "LayoutModel",
      "_view_count": null,
      "_view_module": "@jupyter-widgets/base",
      "_view_module_version": "1.2.0",
      "_view_name": "LayoutView",
      "align_content": null,
      "align_items": null,
      "align_self": null,
      "border": null,
      "bottom": null,
      "display": null,
      "flex": null,
      "flex_flow": null,
      "grid_area": null,
      "grid_auto_columns": null,
      "grid_auto_flow": null,
      "grid_auto_rows": null,
      "grid_column": null,
      "grid_gap": null,
      "grid_row": null,
      "grid_template_areas": null,
      "grid_template_columns": null,
      "grid_template_rows": null,
      "height": null,
      "justify_content": null,
      "justify_items": null,
      "left": null,
      "margin": null,
      "max_height": null,
      "max_width": null,
      "min_height": null,
      "min_width": null,
      "object_fit": null,
      "object_position": null,
      "order": null,
      "overflow": null,
      "overflow_x": null,
      "overflow_y": null,
      "padding": null,
      "right": null,
      "top": null,
      "visibility": null,
      "width": null
     }
    },
    "a57cc0c9936b44e1a48f9a7dd25c3dc9": {
     "model_module": "@jupyter-widgets/controls",
     "model_module_version": "1.5.0",
     "model_name": "DescriptionStyleModel",
     "state": {
      "_model_module": "@jupyter-widgets/controls",
      "_model_module_version": "1.5.0",
      "_model_name": "DescriptionStyleModel",
      "_view_count": null,
      "_view_module": "@jupyter-widgets/base",
      "_view_module_version": "1.2.0",
      "_view_name": "StyleView",
      "description_width": ""
     }
    },
    "b3b170fffb9f4c518bbb3f97baa31907": {
     "model_module": "@jupyter-widgets/base",
     "model_module_version": "1.2.0",
     "model_name": "LayoutModel",
     "state": {
      "_model_module": "@jupyter-widgets/base",
      "_model_module_version": "1.2.0",
      "_model_name": "LayoutModel",
      "_view_count": null,
      "_view_module": "@jupyter-widgets/base",
      "_view_module_version": "1.2.0",
      "_view_name": "LayoutView",
      "align_content": null,
      "align_items": null,
      "align_self": null,
      "border": null,
      "bottom": null,
      "display": null,
      "flex": null,
      "flex_flow": null,
      "grid_area": null,
      "grid_auto_columns": null,
      "grid_auto_flow": null,
      "grid_auto_rows": null,
      "grid_column": null,
      "grid_gap": null,
      "grid_row": null,
      "grid_template_areas": null,
      "grid_template_columns": null,
      "grid_template_rows": null,
      "height": null,
      "justify_content": null,
      "justify_items": null,
      "left": null,
      "margin": null,
      "max_height": null,
      "max_width": null,
      "min_height": null,
      "min_width": null,
      "object_fit": null,
      "object_position": null,
      "order": null,
      "overflow": null,
      "overflow_x": null,
      "overflow_y": null,
      "padding": null,
      "right": null,
      "top": null,
      "visibility": null,
      "width": null
     }
    },
    "bbeac97f7dbf4bcb84bfaaf993b2232b": {
     "model_module": "@jupyter-widgets/controls",
     "model_module_version": "1.5.0",
     "model_name": "ProgressStyleModel",
     "state": {
      "_model_module": "@jupyter-widgets/controls",
      "_model_module_version": "1.5.0",
      "_model_name": "ProgressStyleModel",
      "_view_count": null,
      "_view_module": "@jupyter-widgets/base",
      "_view_module_version": "1.2.0",
      "_view_name": "StyleView",
      "bar_color": null,
      "description_width": ""
     }
    },
    "c4de28e997f141d491bf5fb6eb916040": {
     "model_module": "@jupyter-widgets/controls",
     "model_module_version": "1.5.0",
     "model_name": "VBoxModel",
     "state": {
      "_dom_classes": [],
      "_model_module": "@jupyter-widgets/controls",
      "_model_module_version": "1.5.0",
      "_model_name": "VBoxModel",
      "_view_count": null,
      "_view_module": "@jupyter-widgets/controls",
      "_view_module_version": "1.5.0",
      "_view_name": "VBoxView",
      "box_style": "",
      "children": [
       "IPY_MODEL_3e1a9ab88ae64d1884c7b0ba0cde0c46",
       "IPY_MODEL_2415004567644574b3b435b1a8b6c0ed"
      ],
      "layout": "IPY_MODEL_17a219d149174a85be76aba2807e99ad"
     }
    },
    "c7849f0b119548d2b6ad5076f7cb08bd": {
     "model_module": "@jupyter-widgets/controls",
     "model_module_version": "1.5.0",
     "model_name": "VBoxModel",
     "state": {
      "_dom_classes": [],
      "_model_module": "@jupyter-widgets/controls",
      "_model_module_version": "1.5.0",
      "_model_name": "VBoxModel",
      "_view_count": null,
      "_view_module": "@jupyter-widgets/controls",
      "_view_module_version": "1.5.0",
      "_view_name": "VBoxView",
      "box_style": "",
      "children": [
       "IPY_MODEL_4326a8ac886c4814977b0367ae250227",
       "IPY_MODEL_ed54243efb5f4b118efba013e10db020"
      ],
      "layout": "IPY_MODEL_d9ac2fee645e4f8882abb735d42a5b0f"
     }
    },
    "d5ae1b44a10042adb8f3c02652ca8114": {
     "model_module": "@jupyter-widgets/controls",
     "model_module_version": "1.5.0",
     "model_name": "ProgressStyleModel",
     "state": {
      "_model_module": "@jupyter-widgets/controls",
      "_model_module_version": "1.5.0",
      "_model_name": "ProgressStyleModel",
      "_view_count": null,
      "_view_module": "@jupyter-widgets/base",
      "_view_module_version": "1.2.0",
      "_view_name": "StyleView",
      "bar_color": null,
      "description_width": ""
     }
    },
    "d9ac2fee645e4f8882abb735d42a5b0f": {
     "model_module": "@jupyter-widgets/base",
     "model_module_version": "1.2.0",
     "model_name": "LayoutModel",
     "state": {
      "_model_module": "@jupyter-widgets/base",
      "_model_module_version": "1.2.0",
      "_model_name": "LayoutModel",
      "_view_count": null,
      "_view_module": "@jupyter-widgets/base",
      "_view_module_version": "1.2.0",
      "_view_name": "LayoutView",
      "align_content": null,
      "align_items": null,
      "align_self": null,
      "border": null,
      "bottom": null,
      "display": null,
      "flex": null,
      "flex_flow": null,
      "grid_area": null,
      "grid_auto_columns": null,
      "grid_auto_flow": null,
      "grid_auto_rows": null,
      "grid_column": null,
      "grid_gap": null,
      "grid_row": null,
      "grid_template_areas": null,
      "grid_template_columns": null,
      "grid_template_rows": null,
      "height": null,
      "justify_content": null,
      "justify_items": null,
      "left": null,
      "margin": null,
      "max_height": null,
      "max_width": null,
      "min_height": null,
      "min_width": null,
      "object_fit": null,
      "object_position": null,
      "order": null,
      "overflow": null,
      "overflow_x": null,
      "overflow_y": null,
      "padding": null,
      "right": null,
      "top": null,
      "visibility": null,
      "width": null
     }
    },
    "db8bd897d9834894be0f41b0517ce83e": {
     "model_module": "@jupyter-widgets/base",
     "model_module_version": "1.2.0",
     "model_name": "LayoutModel",
     "state": {
      "_model_module": "@jupyter-widgets/base",
      "_model_module_version": "1.2.0",
      "_model_name": "LayoutModel",
      "_view_count": null,
      "_view_module": "@jupyter-widgets/base",
      "_view_module_version": "1.2.0",
      "_view_name": "LayoutView",
      "align_content": null,
      "align_items": null,
      "align_self": null,
      "border": null,
      "bottom": null,
      "display": null,
      "flex": null,
      "flex_flow": null,
      "grid_area": null,
      "grid_auto_columns": null,
      "grid_auto_flow": null,
      "grid_auto_rows": null,
      "grid_column": null,
      "grid_gap": null,
      "grid_row": null,
      "grid_template_areas": null,
      "grid_template_columns": null,
      "grid_template_rows": null,
      "height": null,
      "justify_content": null,
      "justify_items": null,
      "left": null,
      "margin": null,
      "max_height": null,
      "max_width": null,
      "min_height": null,
      "min_width": null,
      "object_fit": null,
      "object_position": null,
      "order": null,
      "overflow": null,
      "overflow_x": null,
      "overflow_y": null,
      "padding": null,
      "right": null,
      "top": null,
      "visibility": null,
      "width": null
     }
    },
    "ed54243efb5f4b118efba013e10db020": {
     "model_module": "@jupyter-widgets/controls",
     "model_module_version": "1.5.0",
     "model_name": "FloatProgressModel",
     "state": {
      "_dom_classes": [],
      "_model_module": "@jupyter-widgets/controls",
      "_model_module_version": "1.5.0",
      "_model_name": "FloatProgressModel",
      "_view_count": null,
      "_view_module": "@jupyter-widgets/controls",
      "_view_module_version": "1.5.0",
      "_view_name": "ProgressView",
      "bar_style": "",
      "description": "",
      "description_tooltip": null,
      "layout": "IPY_MODEL_19b35fd08adf460cac77fa3b8e01f2e3",
      "max": 1,
      "min": 0,
      "orientation": "horizontal",
      "style": "IPY_MODEL_bbeac97f7dbf4bcb84bfaaf993b2232b",
      "value": 0.9896849204222222
     }
    }
   }
  }
 },
 "nbformat": 4,
 "nbformat_minor": 4
}
